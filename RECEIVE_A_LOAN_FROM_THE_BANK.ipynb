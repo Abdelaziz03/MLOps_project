{
  "cells": [
    {
      "cell_type": "markdown",
      "metadata": {
        "id": "ZAAK-boROHcR"
      },
      "source": [
        "# <center style = 'color : white'> CAN YOU RECEIVE A LOAN FROM THE BANK? </center>"
      ]
    },
    {
      "cell_type": "markdown",
      "metadata": {
        "id": "jQMNatYndjFI"
      },
      "source": [
        "# <center>**Data preprocessing**</center>"
      ]
    },
    {
      "cell_type": "code",
      "execution_count": 62,
      "metadata": {
        "colab": {
          "base_uri": "https://localhost:8080/",
          "height": 359
        },
        "id": "Gz63_x8ZBsBs",
        "outputId": "f3ed2455-149e-4f3c-d0a6-167aca104e4a"
      },
      "outputs": [
        {
          "output_type": "execute_result",
          "data": {
            "text/plain": [
              "  status of existing checking account  Duration in months Credit History  \\\n",
              "0                                 A11                   6            A34   \n",
              "1                                 A12                  48            A32   \n",
              "2                                 A14                  12            A34   \n",
              "3                                 A11                  42            A32   \n",
              "4                                 A11                  24            A33   \n",
              "\n",
              "  Purpose  Credit Amount Savings account/bonds Present employement since  \\\n",
              "0     A43           1169                   A65                       A75   \n",
              "1     A43           5951                   A61                       A73   \n",
              "2     A46           2096                   A61                       A74   \n",
              "3     A42           7882                   A61                       A74   \n",
              "4     A40           4870                   A61                       A73   \n",
              "\n",
              "   installement rate in percentage of disposable income  \\\n",
              "0                                                  4      \n",
              "1                                                  2      \n",
              "2                                                  2      \n",
              "3                                                  2      \n",
              "4                                                  3      \n",
              "\n",
              "  Personal status and sex Other debtors / guarantors  ...  Property  \\\n",
              "0                     A93                       A101  ...      A121   \n",
              "1                     A92                       A101  ...      A121   \n",
              "2                     A93                       A101  ...      A121   \n",
              "3                     A93                       A103  ...      A122   \n",
              "4                     A93                       A101  ...      A124   \n",
              "\n",
              "  Age in years  Other installment plans Housing  \\\n",
              "0           67                     A143    A152   \n",
              "1           22                     A143    A152   \n",
              "2           49                     A143    A152   \n",
              "3           45                     A143    A153   \n",
              "4           53                     A143    A153   \n",
              "\n",
              "  Number of existing credits at this bank   Job  \\\n",
              "0                                       2  A173   \n",
              "1                                       1  A173   \n",
              "2                                       1  A172   \n",
              "3                                       1  A173   \n",
              "4                                       2  A173   \n",
              "\n",
              "  Number of people being liable to provide maintenance for  Telephone  \\\n",
              "0                                                  1             A192   \n",
              "1                                                  1             A191   \n",
              "2                                                  2             A191   \n",
              "3                                                  2             A191   \n",
              "4                                                  2             A191   \n",
              "\n",
              "  foreign worker label  \n",
              "0           A201     1  \n",
              "1           A201     2  \n",
              "2           A201     1  \n",
              "3           A201     1  \n",
              "4           A201     2  \n",
              "\n",
              "[5 rows x 21 columns]"
            ],
            "text/html": [
              "\n",
              "  <div id=\"df-4a92e266-81da-41cb-8304-283f142e614b\" class=\"colab-df-container\">\n",
              "    <div>\n",
              "<style scoped>\n",
              "    .dataframe tbody tr th:only-of-type {\n",
              "        vertical-align: middle;\n",
              "    }\n",
              "\n",
              "    .dataframe tbody tr th {\n",
              "        vertical-align: top;\n",
              "    }\n",
              "\n",
              "    .dataframe thead th {\n",
              "        text-align: right;\n",
              "    }\n",
              "</style>\n",
              "<table border=\"1\" class=\"dataframe\">\n",
              "  <thead>\n",
              "    <tr style=\"text-align: right;\">\n",
              "      <th></th>\n",
              "      <th>status of existing checking account</th>\n",
              "      <th>Duration in months</th>\n",
              "      <th>Credit History</th>\n",
              "      <th>Purpose</th>\n",
              "      <th>Credit Amount</th>\n",
              "      <th>Savings account/bonds</th>\n",
              "      <th>Present employement since</th>\n",
              "      <th>installement rate in percentage of disposable income</th>\n",
              "      <th>Personal status and sex</th>\n",
              "      <th>Other debtors / guarantors</th>\n",
              "      <th>...</th>\n",
              "      <th>Property</th>\n",
              "      <th>Age in years</th>\n",
              "      <th>Other installment plans</th>\n",
              "      <th>Housing</th>\n",
              "      <th>Number of existing credits at this bank</th>\n",
              "      <th>Job</th>\n",
              "      <th>Number of people being liable to provide maintenance for</th>\n",
              "      <th>Telephone</th>\n",
              "      <th>foreign worker</th>\n",
              "      <th>label</th>\n",
              "    </tr>\n",
              "  </thead>\n",
              "  <tbody>\n",
              "    <tr>\n",
              "      <th>0</th>\n",
              "      <td>A11</td>\n",
              "      <td>6</td>\n",
              "      <td>A34</td>\n",
              "      <td>A43</td>\n",
              "      <td>1169</td>\n",
              "      <td>A65</td>\n",
              "      <td>A75</td>\n",
              "      <td>4</td>\n",
              "      <td>A93</td>\n",
              "      <td>A101</td>\n",
              "      <td>...</td>\n",
              "      <td>A121</td>\n",
              "      <td>67</td>\n",
              "      <td>A143</td>\n",
              "      <td>A152</td>\n",
              "      <td>2</td>\n",
              "      <td>A173</td>\n",
              "      <td>1</td>\n",
              "      <td>A192</td>\n",
              "      <td>A201</td>\n",
              "      <td>1</td>\n",
              "    </tr>\n",
              "    <tr>\n",
              "      <th>1</th>\n",
              "      <td>A12</td>\n",
              "      <td>48</td>\n",
              "      <td>A32</td>\n",
              "      <td>A43</td>\n",
              "      <td>5951</td>\n",
              "      <td>A61</td>\n",
              "      <td>A73</td>\n",
              "      <td>2</td>\n",
              "      <td>A92</td>\n",
              "      <td>A101</td>\n",
              "      <td>...</td>\n",
              "      <td>A121</td>\n",
              "      <td>22</td>\n",
              "      <td>A143</td>\n",
              "      <td>A152</td>\n",
              "      <td>1</td>\n",
              "      <td>A173</td>\n",
              "      <td>1</td>\n",
              "      <td>A191</td>\n",
              "      <td>A201</td>\n",
              "      <td>2</td>\n",
              "    </tr>\n",
              "    <tr>\n",
              "      <th>2</th>\n",
              "      <td>A14</td>\n",
              "      <td>12</td>\n",
              "      <td>A34</td>\n",
              "      <td>A46</td>\n",
              "      <td>2096</td>\n",
              "      <td>A61</td>\n",
              "      <td>A74</td>\n",
              "      <td>2</td>\n",
              "      <td>A93</td>\n",
              "      <td>A101</td>\n",
              "      <td>...</td>\n",
              "      <td>A121</td>\n",
              "      <td>49</td>\n",
              "      <td>A143</td>\n",
              "      <td>A152</td>\n",
              "      <td>1</td>\n",
              "      <td>A172</td>\n",
              "      <td>2</td>\n",
              "      <td>A191</td>\n",
              "      <td>A201</td>\n",
              "      <td>1</td>\n",
              "    </tr>\n",
              "    <tr>\n",
              "      <th>3</th>\n",
              "      <td>A11</td>\n",
              "      <td>42</td>\n",
              "      <td>A32</td>\n",
              "      <td>A42</td>\n",
              "      <td>7882</td>\n",
              "      <td>A61</td>\n",
              "      <td>A74</td>\n",
              "      <td>2</td>\n",
              "      <td>A93</td>\n",
              "      <td>A103</td>\n",
              "      <td>...</td>\n",
              "      <td>A122</td>\n",
              "      <td>45</td>\n",
              "      <td>A143</td>\n",
              "      <td>A153</td>\n",
              "      <td>1</td>\n",
              "      <td>A173</td>\n",
              "      <td>2</td>\n",
              "      <td>A191</td>\n",
              "      <td>A201</td>\n",
              "      <td>1</td>\n",
              "    </tr>\n",
              "    <tr>\n",
              "      <th>4</th>\n",
              "      <td>A11</td>\n",
              "      <td>24</td>\n",
              "      <td>A33</td>\n",
              "      <td>A40</td>\n",
              "      <td>4870</td>\n",
              "      <td>A61</td>\n",
              "      <td>A73</td>\n",
              "      <td>3</td>\n",
              "      <td>A93</td>\n",
              "      <td>A101</td>\n",
              "      <td>...</td>\n",
              "      <td>A124</td>\n",
              "      <td>53</td>\n",
              "      <td>A143</td>\n",
              "      <td>A153</td>\n",
              "      <td>2</td>\n",
              "      <td>A173</td>\n",
              "      <td>2</td>\n",
              "      <td>A191</td>\n",
              "      <td>A201</td>\n",
              "      <td>2</td>\n",
              "    </tr>\n",
              "  </tbody>\n",
              "</table>\n",
              "<p>5 rows × 21 columns</p>\n",
              "</div>\n",
              "    <div class=\"colab-df-buttons\">\n",
              "\n",
              "  <div class=\"colab-df-container\">\n",
              "    <button class=\"colab-df-convert\" onclick=\"convertToInteractive('df-4a92e266-81da-41cb-8304-283f142e614b')\"\n",
              "            title=\"Convert this dataframe to an interactive table.\"\n",
              "            style=\"display:none;\">\n",
              "\n",
              "  <svg xmlns=\"http://www.w3.org/2000/svg\" height=\"24px\" viewBox=\"0 -960 960 960\">\n",
              "    <path d=\"M120-120v-720h720v720H120Zm60-500h600v-160H180v160Zm220 220h160v-160H400v160Zm0 220h160v-160H400v160ZM180-400h160v-160H180v160Zm440 0h160v-160H620v160ZM180-180h160v-160H180v160Zm440 0h160v-160H620v160Z\"/>\n",
              "  </svg>\n",
              "    </button>\n",
              "\n",
              "  <style>\n",
              "    .colab-df-container {\n",
              "      display:flex;\n",
              "      gap: 12px;\n",
              "    }\n",
              "\n",
              "    .colab-df-convert {\n",
              "      background-color: #E8F0FE;\n",
              "      border: none;\n",
              "      border-radius: 50%;\n",
              "      cursor: pointer;\n",
              "      display: none;\n",
              "      fill: #1967D2;\n",
              "      height: 32px;\n",
              "      padding: 0 0 0 0;\n",
              "      width: 32px;\n",
              "    }\n",
              "\n",
              "    .colab-df-convert:hover {\n",
              "      background-color: #E2EBFA;\n",
              "      box-shadow: 0px 1px 2px rgba(60, 64, 67, 0.3), 0px 1px 3px 1px rgba(60, 64, 67, 0.15);\n",
              "      fill: #174EA6;\n",
              "    }\n",
              "\n",
              "    .colab-df-buttons div {\n",
              "      margin-bottom: 4px;\n",
              "    }\n",
              "\n",
              "    [theme=dark] .colab-df-convert {\n",
              "      background-color: #3B4455;\n",
              "      fill: #D2E3FC;\n",
              "    }\n",
              "\n",
              "    [theme=dark] .colab-df-convert:hover {\n",
              "      background-color: #434B5C;\n",
              "      box-shadow: 0px 1px 3px 1px rgba(0, 0, 0, 0.15);\n",
              "      filter: drop-shadow(0px 1px 2px rgba(0, 0, 0, 0.3));\n",
              "      fill: #FFFFFF;\n",
              "    }\n",
              "  </style>\n",
              "\n",
              "    <script>\n",
              "      const buttonEl =\n",
              "        document.querySelector('#df-4a92e266-81da-41cb-8304-283f142e614b button.colab-df-convert');\n",
              "      buttonEl.style.display =\n",
              "        google.colab.kernel.accessAllowed ? 'block' : 'none';\n",
              "\n",
              "      async function convertToInteractive(key) {\n",
              "        const element = document.querySelector('#df-4a92e266-81da-41cb-8304-283f142e614b');\n",
              "        const dataTable =\n",
              "          await google.colab.kernel.invokeFunction('convertToInteractive',\n",
              "                                                    [key], {});\n",
              "        if (!dataTable) return;\n",
              "\n",
              "        const docLinkHtml = 'Like what you see? Visit the ' +\n",
              "          '<a target=\"_blank\" href=https://colab.research.google.com/notebooks/data_table.ipynb>data table notebook</a>'\n",
              "          + ' to learn more about interactive tables.';\n",
              "        element.innerHTML = '';\n",
              "        dataTable['output_type'] = 'display_data';\n",
              "        await google.colab.output.renderOutput(dataTable, element);\n",
              "        const docLink = document.createElement('div');\n",
              "        docLink.innerHTML = docLinkHtml;\n",
              "        element.appendChild(docLink);\n",
              "      }\n",
              "    </script>\n",
              "  </div>\n",
              "\n",
              "\n",
              "<div id=\"df-1161be5d-2760-4d52-a26b-d4d322d9a525\">\n",
              "  <button class=\"colab-df-quickchart\" onclick=\"quickchart('df-1161be5d-2760-4d52-a26b-d4d322d9a525')\"\n",
              "            title=\"Suggest charts.\"\n",
              "            style=\"display:none;\">\n",
              "\n",
              "<svg xmlns=\"http://www.w3.org/2000/svg\" height=\"24px\"viewBox=\"0 0 24 24\"\n",
              "     width=\"24px\">\n",
              "    <g>\n",
              "        <path d=\"M19 3H5c-1.1 0-2 .9-2 2v14c0 1.1.9 2 2 2h14c1.1 0 2-.9 2-2V5c0-1.1-.9-2-2-2zM9 17H7v-7h2v7zm4 0h-2V7h2v10zm4 0h-2v-4h2v4z\"/>\n",
              "    </g>\n",
              "</svg>\n",
              "  </button>\n",
              "\n",
              "<style>\n",
              "  .colab-df-quickchart {\n",
              "      --bg-color: #E8F0FE;\n",
              "      --fill-color: #1967D2;\n",
              "      --hover-bg-color: #E2EBFA;\n",
              "      --hover-fill-color: #174EA6;\n",
              "      --disabled-fill-color: #AAA;\n",
              "      --disabled-bg-color: #DDD;\n",
              "  }\n",
              "\n",
              "  [theme=dark] .colab-df-quickchart {\n",
              "      --bg-color: #3B4455;\n",
              "      --fill-color: #D2E3FC;\n",
              "      --hover-bg-color: #434B5C;\n",
              "      --hover-fill-color: #FFFFFF;\n",
              "      --disabled-bg-color: #3B4455;\n",
              "      --disabled-fill-color: #666;\n",
              "  }\n",
              "\n",
              "  .colab-df-quickchart {\n",
              "    background-color: var(--bg-color);\n",
              "    border: none;\n",
              "    border-radius: 50%;\n",
              "    cursor: pointer;\n",
              "    display: none;\n",
              "    fill: var(--fill-color);\n",
              "    height: 32px;\n",
              "    padding: 0;\n",
              "    width: 32px;\n",
              "  }\n",
              "\n",
              "  .colab-df-quickchart:hover {\n",
              "    background-color: var(--hover-bg-color);\n",
              "    box-shadow: 0 1px 2px rgba(60, 64, 67, 0.3), 0 1px 3px 1px rgba(60, 64, 67, 0.15);\n",
              "    fill: var(--button-hover-fill-color);\n",
              "  }\n",
              "\n",
              "  .colab-df-quickchart-complete:disabled,\n",
              "  .colab-df-quickchart-complete:disabled:hover {\n",
              "    background-color: var(--disabled-bg-color);\n",
              "    fill: var(--disabled-fill-color);\n",
              "    box-shadow: none;\n",
              "  }\n",
              "\n",
              "  .colab-df-spinner {\n",
              "    border: 2px solid var(--fill-color);\n",
              "    border-color: transparent;\n",
              "    border-bottom-color: var(--fill-color);\n",
              "    animation:\n",
              "      spin 1s steps(1) infinite;\n",
              "  }\n",
              "\n",
              "  @keyframes spin {\n",
              "    0% {\n",
              "      border-color: transparent;\n",
              "      border-bottom-color: var(--fill-color);\n",
              "      border-left-color: var(--fill-color);\n",
              "    }\n",
              "    20% {\n",
              "      border-color: transparent;\n",
              "      border-left-color: var(--fill-color);\n",
              "      border-top-color: var(--fill-color);\n",
              "    }\n",
              "    30% {\n",
              "      border-color: transparent;\n",
              "      border-left-color: var(--fill-color);\n",
              "      border-top-color: var(--fill-color);\n",
              "      border-right-color: var(--fill-color);\n",
              "    }\n",
              "    40% {\n",
              "      border-color: transparent;\n",
              "      border-right-color: var(--fill-color);\n",
              "      border-top-color: var(--fill-color);\n",
              "    }\n",
              "    60% {\n",
              "      border-color: transparent;\n",
              "      border-right-color: var(--fill-color);\n",
              "    }\n",
              "    80% {\n",
              "      border-color: transparent;\n",
              "      border-right-color: var(--fill-color);\n",
              "      border-bottom-color: var(--fill-color);\n",
              "    }\n",
              "    90% {\n",
              "      border-color: transparent;\n",
              "      border-bottom-color: var(--fill-color);\n",
              "    }\n",
              "  }\n",
              "</style>\n",
              "\n",
              "  <script>\n",
              "    async function quickchart(key) {\n",
              "      const quickchartButtonEl =\n",
              "        document.querySelector('#' + key + ' button');\n",
              "      quickchartButtonEl.disabled = true;  // To prevent multiple clicks.\n",
              "      quickchartButtonEl.classList.add('colab-df-spinner');\n",
              "      try {\n",
              "        const charts = await google.colab.kernel.invokeFunction(\n",
              "            'suggestCharts', [key], {});\n",
              "      } catch (error) {\n",
              "        console.error('Error during call to suggestCharts:', error);\n",
              "      }\n",
              "      quickchartButtonEl.classList.remove('colab-df-spinner');\n",
              "      quickchartButtonEl.classList.add('colab-df-quickchart-complete');\n",
              "    }\n",
              "    (() => {\n",
              "      let quickchartButtonEl =\n",
              "        document.querySelector('#df-1161be5d-2760-4d52-a26b-d4d322d9a525 button');\n",
              "      quickchartButtonEl.style.display =\n",
              "        google.colab.kernel.accessAllowed ? 'block' : 'none';\n",
              "    })();\n",
              "  </script>\n",
              "</div>\n",
              "    </div>\n",
              "  </div>\n"
            ]
          },
          "metadata": {},
          "execution_count": 62
        }
      ],
      "source": [
        "import pandas as pd\n",
        "import numpy as np\n",
        "#read the data file and assign each column its meaning\n",
        "db = pd.read_csv(\"german.csv\", names = ['status of existing checking account','Duration in months','Credit History','Purpose','Credit Amount','Savings account/bonds','Present employement since','installement rate in percentage of disposable income','Personal status and sex','Other debtors / guarantors','present residence since','Property','Age in years','Other installment plans', 'Housing', 'Number of existing credits at this bank', 'Job', 'Number of people being liable to provide maintenance for', 'Telephone', 'foreign worker', 'label'])\n",
        "db.head() #show columns"
      ]
    },
    {
      "cell_type": "code",
      "execution_count": 63,
      "metadata": {
        "id": "e1XANflECuVI",
        "colab": {
          "base_uri": "https://localhost:8080/"
        },
        "outputId": "66a34e6d-5672-48e4-c8fd-4ec550fb7c32"
      },
      "outputs": [
        {
          "output_type": "stream",
          "name": "stdout",
          "text": [
            "<class 'pandas.core.frame.DataFrame'>\n",
            "RangeIndex: 1000 entries, 0 to 999\n",
            "Data columns (total 21 columns):\n",
            " #   Column                                                    Non-Null Count  Dtype \n",
            "---  ------                                                    --------------  ----- \n",
            " 0   status of existing checking account                       1000 non-null   object\n",
            " 1   Duration in months                                        1000 non-null   int64 \n",
            " 2   Credit History                                            1000 non-null   object\n",
            " 3   Purpose                                                   1000 non-null   object\n",
            " 4   Credit Amount                                             1000 non-null   int64 \n",
            " 5   Savings account/bonds                                     1000 non-null   object\n",
            " 6   Present employement since                                 1000 non-null   object\n",
            " 7   installement rate in percentage of disposable income      1000 non-null   int64 \n",
            " 8   Personal status and sex                                   1000 non-null   object\n",
            " 9   Other debtors / guarantors                                1000 non-null   object\n",
            " 10  present residence since                                   1000 non-null   int64 \n",
            " 11  Property                                                  1000 non-null   object\n",
            " 12  Age in years                                              1000 non-null   int64 \n",
            " 13  Other installment plans                                   1000 non-null   object\n",
            " 14  Housing                                                   1000 non-null   object\n",
            " 15  Number of existing credits at this bank                   1000 non-null   int64 \n",
            " 16  Job                                                       1000 non-null   object\n",
            " 17  Number of people being liable to provide maintenance for  1000 non-null   int64 \n",
            " 18  Telephone                                                 1000 non-null   object\n",
            " 19  foreign worker                                            1000 non-null   object\n",
            " 20  label                                                     1000 non-null   int64 \n",
            "dtypes: int64(8), object(13)\n",
            "memory usage: 164.2+ KB\n"
          ]
        }
      ],
      "source": [
        "db.info() #Discover the data"
      ]
    },
    {
      "cell_type": "code",
      "execution_count": 64,
      "metadata": {
        "colab": {
          "base_uri": "https://localhost:8080/",
          "height": 335
        },
        "id": "vWEn7cuTDKAG",
        "outputId": "8466e9a4-be2c-472a-dadc-2719b86093df"
      },
      "outputs": [
        {
          "output_type": "execute_result",
          "data": {
            "text/plain": [
              "       Duration in months  Credit Amount  \\\n",
              "count         1000.000000    1000.000000   \n",
              "mean            20.903000    3271.258000   \n",
              "std             12.058814    2822.736876   \n",
              "min              4.000000     250.000000   \n",
              "25%             12.000000    1365.500000   \n",
              "50%             18.000000    2319.500000   \n",
              "75%             24.000000    3972.250000   \n",
              "max             72.000000   18424.000000   \n",
              "\n",
              "       installement rate in percentage of disposable income  \\\n",
              "count                                        1000.000000      \n",
              "mean                                            2.973000      \n",
              "std                                             1.118715      \n",
              "min                                             1.000000      \n",
              "25%                                             2.000000      \n",
              "50%                                             3.000000      \n",
              "75%                                             4.000000      \n",
              "max                                             4.000000      \n",
              "\n",
              "       present residence since  Age in years  \\\n",
              "count              1000.000000   1000.000000   \n",
              "mean                  2.845000     35.546000   \n",
              "std                   1.103718     11.375469   \n",
              "min                   1.000000     19.000000   \n",
              "25%                   2.000000     27.000000   \n",
              "50%                   3.000000     33.000000   \n",
              "75%                   4.000000     42.000000   \n",
              "max                   4.000000     75.000000   \n",
              "\n",
              "       Number of existing credits at this bank  \\\n",
              "count                              1000.000000   \n",
              "mean                                  1.407000   \n",
              "std                                   0.577654   \n",
              "min                                   1.000000   \n",
              "25%                                   1.000000   \n",
              "50%                                   1.000000   \n",
              "75%                                   2.000000   \n",
              "max                                   4.000000   \n",
              "\n",
              "       Number of people being liable to provide maintenance for        label  \n",
              "count                                        1000.000000         1000.000000  \n",
              "mean                                            1.155000            1.300000  \n",
              "std                                             0.362086            0.458487  \n",
              "min                                             1.000000            1.000000  \n",
              "25%                                             1.000000            1.000000  \n",
              "50%                                             1.000000            1.000000  \n",
              "75%                                             1.000000            2.000000  \n",
              "max                                             2.000000            2.000000  "
            ],
            "text/html": [
              "\n",
              "  <div id=\"df-cea0c4b5-5494-4ff8-b5c1-49a5f6d8ff38\" class=\"colab-df-container\">\n",
              "    <div>\n",
              "<style scoped>\n",
              "    .dataframe tbody tr th:only-of-type {\n",
              "        vertical-align: middle;\n",
              "    }\n",
              "\n",
              "    .dataframe tbody tr th {\n",
              "        vertical-align: top;\n",
              "    }\n",
              "\n",
              "    .dataframe thead th {\n",
              "        text-align: right;\n",
              "    }\n",
              "</style>\n",
              "<table border=\"1\" class=\"dataframe\">\n",
              "  <thead>\n",
              "    <tr style=\"text-align: right;\">\n",
              "      <th></th>\n",
              "      <th>Duration in months</th>\n",
              "      <th>Credit Amount</th>\n",
              "      <th>installement rate in percentage of disposable income</th>\n",
              "      <th>present residence since</th>\n",
              "      <th>Age in years</th>\n",
              "      <th>Number of existing credits at this bank</th>\n",
              "      <th>Number of people being liable to provide maintenance for</th>\n",
              "      <th>label</th>\n",
              "    </tr>\n",
              "  </thead>\n",
              "  <tbody>\n",
              "    <tr>\n",
              "      <th>count</th>\n",
              "      <td>1000.000000</td>\n",
              "      <td>1000.000000</td>\n",
              "      <td>1000.000000</td>\n",
              "      <td>1000.000000</td>\n",
              "      <td>1000.000000</td>\n",
              "      <td>1000.000000</td>\n",
              "      <td>1000.000000</td>\n",
              "      <td>1000.000000</td>\n",
              "    </tr>\n",
              "    <tr>\n",
              "      <th>mean</th>\n",
              "      <td>20.903000</td>\n",
              "      <td>3271.258000</td>\n",
              "      <td>2.973000</td>\n",
              "      <td>2.845000</td>\n",
              "      <td>35.546000</td>\n",
              "      <td>1.407000</td>\n",
              "      <td>1.155000</td>\n",
              "      <td>1.300000</td>\n",
              "    </tr>\n",
              "    <tr>\n",
              "      <th>std</th>\n",
              "      <td>12.058814</td>\n",
              "      <td>2822.736876</td>\n",
              "      <td>1.118715</td>\n",
              "      <td>1.103718</td>\n",
              "      <td>11.375469</td>\n",
              "      <td>0.577654</td>\n",
              "      <td>0.362086</td>\n",
              "      <td>0.458487</td>\n",
              "    </tr>\n",
              "    <tr>\n",
              "      <th>min</th>\n",
              "      <td>4.000000</td>\n",
              "      <td>250.000000</td>\n",
              "      <td>1.000000</td>\n",
              "      <td>1.000000</td>\n",
              "      <td>19.000000</td>\n",
              "      <td>1.000000</td>\n",
              "      <td>1.000000</td>\n",
              "      <td>1.000000</td>\n",
              "    </tr>\n",
              "    <tr>\n",
              "      <th>25%</th>\n",
              "      <td>12.000000</td>\n",
              "      <td>1365.500000</td>\n",
              "      <td>2.000000</td>\n",
              "      <td>2.000000</td>\n",
              "      <td>27.000000</td>\n",
              "      <td>1.000000</td>\n",
              "      <td>1.000000</td>\n",
              "      <td>1.000000</td>\n",
              "    </tr>\n",
              "    <tr>\n",
              "      <th>50%</th>\n",
              "      <td>18.000000</td>\n",
              "      <td>2319.500000</td>\n",
              "      <td>3.000000</td>\n",
              "      <td>3.000000</td>\n",
              "      <td>33.000000</td>\n",
              "      <td>1.000000</td>\n",
              "      <td>1.000000</td>\n",
              "      <td>1.000000</td>\n",
              "    </tr>\n",
              "    <tr>\n",
              "      <th>75%</th>\n",
              "      <td>24.000000</td>\n",
              "      <td>3972.250000</td>\n",
              "      <td>4.000000</td>\n",
              "      <td>4.000000</td>\n",
              "      <td>42.000000</td>\n",
              "      <td>2.000000</td>\n",
              "      <td>1.000000</td>\n",
              "      <td>2.000000</td>\n",
              "    </tr>\n",
              "    <tr>\n",
              "      <th>max</th>\n",
              "      <td>72.000000</td>\n",
              "      <td>18424.000000</td>\n",
              "      <td>4.000000</td>\n",
              "      <td>4.000000</td>\n",
              "      <td>75.000000</td>\n",
              "      <td>4.000000</td>\n",
              "      <td>2.000000</td>\n",
              "      <td>2.000000</td>\n",
              "    </tr>\n",
              "  </tbody>\n",
              "</table>\n",
              "</div>\n",
              "    <div class=\"colab-df-buttons\">\n",
              "\n",
              "  <div class=\"colab-df-container\">\n",
              "    <button class=\"colab-df-convert\" onclick=\"convertToInteractive('df-cea0c4b5-5494-4ff8-b5c1-49a5f6d8ff38')\"\n",
              "            title=\"Convert this dataframe to an interactive table.\"\n",
              "            style=\"display:none;\">\n",
              "\n",
              "  <svg xmlns=\"http://www.w3.org/2000/svg\" height=\"24px\" viewBox=\"0 -960 960 960\">\n",
              "    <path d=\"M120-120v-720h720v720H120Zm60-500h600v-160H180v160Zm220 220h160v-160H400v160Zm0 220h160v-160H400v160ZM180-400h160v-160H180v160Zm440 0h160v-160H620v160ZM180-180h160v-160H180v160Zm440 0h160v-160H620v160Z\"/>\n",
              "  </svg>\n",
              "    </button>\n",
              "\n",
              "  <style>\n",
              "    .colab-df-container {\n",
              "      display:flex;\n",
              "      gap: 12px;\n",
              "    }\n",
              "\n",
              "    .colab-df-convert {\n",
              "      background-color: #E8F0FE;\n",
              "      border: none;\n",
              "      border-radius: 50%;\n",
              "      cursor: pointer;\n",
              "      display: none;\n",
              "      fill: #1967D2;\n",
              "      height: 32px;\n",
              "      padding: 0 0 0 0;\n",
              "      width: 32px;\n",
              "    }\n",
              "\n",
              "    .colab-df-convert:hover {\n",
              "      background-color: #E2EBFA;\n",
              "      box-shadow: 0px 1px 2px rgba(60, 64, 67, 0.3), 0px 1px 3px 1px rgba(60, 64, 67, 0.15);\n",
              "      fill: #174EA6;\n",
              "    }\n",
              "\n",
              "    .colab-df-buttons div {\n",
              "      margin-bottom: 4px;\n",
              "    }\n",
              "\n",
              "    [theme=dark] .colab-df-convert {\n",
              "      background-color: #3B4455;\n",
              "      fill: #D2E3FC;\n",
              "    }\n",
              "\n",
              "    [theme=dark] .colab-df-convert:hover {\n",
              "      background-color: #434B5C;\n",
              "      box-shadow: 0px 1px 3px 1px rgba(0, 0, 0, 0.15);\n",
              "      filter: drop-shadow(0px 1px 2px rgba(0, 0, 0, 0.3));\n",
              "      fill: #FFFFFF;\n",
              "    }\n",
              "  </style>\n",
              "\n",
              "    <script>\n",
              "      const buttonEl =\n",
              "        document.querySelector('#df-cea0c4b5-5494-4ff8-b5c1-49a5f6d8ff38 button.colab-df-convert');\n",
              "      buttonEl.style.display =\n",
              "        google.colab.kernel.accessAllowed ? 'block' : 'none';\n",
              "\n",
              "      async function convertToInteractive(key) {\n",
              "        const element = document.querySelector('#df-cea0c4b5-5494-4ff8-b5c1-49a5f6d8ff38');\n",
              "        const dataTable =\n",
              "          await google.colab.kernel.invokeFunction('convertToInteractive',\n",
              "                                                    [key], {});\n",
              "        if (!dataTable) return;\n",
              "\n",
              "        const docLinkHtml = 'Like what you see? Visit the ' +\n",
              "          '<a target=\"_blank\" href=https://colab.research.google.com/notebooks/data_table.ipynb>data table notebook</a>'\n",
              "          + ' to learn more about interactive tables.';\n",
              "        element.innerHTML = '';\n",
              "        dataTable['output_type'] = 'display_data';\n",
              "        await google.colab.output.renderOutput(dataTable, element);\n",
              "        const docLink = document.createElement('div');\n",
              "        docLink.innerHTML = docLinkHtml;\n",
              "        element.appendChild(docLink);\n",
              "      }\n",
              "    </script>\n",
              "  </div>\n",
              "\n",
              "\n",
              "<div id=\"df-358e2a69-93be-4b3e-b3df-11c16cc428ef\">\n",
              "  <button class=\"colab-df-quickchart\" onclick=\"quickchart('df-358e2a69-93be-4b3e-b3df-11c16cc428ef')\"\n",
              "            title=\"Suggest charts.\"\n",
              "            style=\"display:none;\">\n",
              "\n",
              "<svg xmlns=\"http://www.w3.org/2000/svg\" height=\"24px\"viewBox=\"0 0 24 24\"\n",
              "     width=\"24px\">\n",
              "    <g>\n",
              "        <path d=\"M19 3H5c-1.1 0-2 .9-2 2v14c0 1.1.9 2 2 2h14c1.1 0 2-.9 2-2V5c0-1.1-.9-2-2-2zM9 17H7v-7h2v7zm4 0h-2V7h2v10zm4 0h-2v-4h2v4z\"/>\n",
              "    </g>\n",
              "</svg>\n",
              "  </button>\n",
              "\n",
              "<style>\n",
              "  .colab-df-quickchart {\n",
              "      --bg-color: #E8F0FE;\n",
              "      --fill-color: #1967D2;\n",
              "      --hover-bg-color: #E2EBFA;\n",
              "      --hover-fill-color: #174EA6;\n",
              "      --disabled-fill-color: #AAA;\n",
              "      --disabled-bg-color: #DDD;\n",
              "  }\n",
              "\n",
              "  [theme=dark] .colab-df-quickchart {\n",
              "      --bg-color: #3B4455;\n",
              "      --fill-color: #D2E3FC;\n",
              "      --hover-bg-color: #434B5C;\n",
              "      --hover-fill-color: #FFFFFF;\n",
              "      --disabled-bg-color: #3B4455;\n",
              "      --disabled-fill-color: #666;\n",
              "  }\n",
              "\n",
              "  .colab-df-quickchart {\n",
              "    background-color: var(--bg-color);\n",
              "    border: none;\n",
              "    border-radius: 50%;\n",
              "    cursor: pointer;\n",
              "    display: none;\n",
              "    fill: var(--fill-color);\n",
              "    height: 32px;\n",
              "    padding: 0;\n",
              "    width: 32px;\n",
              "  }\n",
              "\n",
              "  .colab-df-quickchart:hover {\n",
              "    background-color: var(--hover-bg-color);\n",
              "    box-shadow: 0 1px 2px rgba(60, 64, 67, 0.3), 0 1px 3px 1px rgba(60, 64, 67, 0.15);\n",
              "    fill: var(--button-hover-fill-color);\n",
              "  }\n",
              "\n",
              "  .colab-df-quickchart-complete:disabled,\n",
              "  .colab-df-quickchart-complete:disabled:hover {\n",
              "    background-color: var(--disabled-bg-color);\n",
              "    fill: var(--disabled-fill-color);\n",
              "    box-shadow: none;\n",
              "  }\n",
              "\n",
              "  .colab-df-spinner {\n",
              "    border: 2px solid var(--fill-color);\n",
              "    border-color: transparent;\n",
              "    border-bottom-color: var(--fill-color);\n",
              "    animation:\n",
              "      spin 1s steps(1) infinite;\n",
              "  }\n",
              "\n",
              "  @keyframes spin {\n",
              "    0% {\n",
              "      border-color: transparent;\n",
              "      border-bottom-color: var(--fill-color);\n",
              "      border-left-color: var(--fill-color);\n",
              "    }\n",
              "    20% {\n",
              "      border-color: transparent;\n",
              "      border-left-color: var(--fill-color);\n",
              "      border-top-color: var(--fill-color);\n",
              "    }\n",
              "    30% {\n",
              "      border-color: transparent;\n",
              "      border-left-color: var(--fill-color);\n",
              "      border-top-color: var(--fill-color);\n",
              "      border-right-color: var(--fill-color);\n",
              "    }\n",
              "    40% {\n",
              "      border-color: transparent;\n",
              "      border-right-color: var(--fill-color);\n",
              "      border-top-color: var(--fill-color);\n",
              "    }\n",
              "    60% {\n",
              "      border-color: transparent;\n",
              "      border-right-color: var(--fill-color);\n",
              "    }\n",
              "    80% {\n",
              "      border-color: transparent;\n",
              "      border-right-color: var(--fill-color);\n",
              "      border-bottom-color: var(--fill-color);\n",
              "    }\n",
              "    90% {\n",
              "      border-color: transparent;\n",
              "      border-bottom-color: var(--fill-color);\n",
              "    }\n",
              "  }\n",
              "</style>\n",
              "\n",
              "  <script>\n",
              "    async function quickchart(key) {\n",
              "      const quickchartButtonEl =\n",
              "        document.querySelector('#' + key + ' button');\n",
              "      quickchartButtonEl.disabled = true;  // To prevent multiple clicks.\n",
              "      quickchartButtonEl.classList.add('colab-df-spinner');\n",
              "      try {\n",
              "        const charts = await google.colab.kernel.invokeFunction(\n",
              "            'suggestCharts', [key], {});\n",
              "      } catch (error) {\n",
              "        console.error('Error during call to suggestCharts:', error);\n",
              "      }\n",
              "      quickchartButtonEl.classList.remove('colab-df-spinner');\n",
              "      quickchartButtonEl.classList.add('colab-df-quickchart-complete');\n",
              "    }\n",
              "    (() => {\n",
              "      let quickchartButtonEl =\n",
              "        document.querySelector('#df-358e2a69-93be-4b3e-b3df-11c16cc428ef button');\n",
              "      quickchartButtonEl.style.display =\n",
              "        google.colab.kernel.accessAllowed ? 'block' : 'none';\n",
              "    })();\n",
              "  </script>\n",
              "</div>\n",
              "    </div>\n",
              "  </div>\n"
            ]
          },
          "metadata": {},
          "execution_count": 64
        }
      ],
      "source": [
        "db.describe() #Statistical representation of data"
      ]
    },
    {
      "cell_type": "code",
      "execution_count": 65,
      "metadata": {
        "colab": {
          "base_uri": "https://localhost:8080/"
        },
        "id": "atKOLVj-ERt2",
        "outputId": "f12cfdac-6a3a-44d1-9448-1c21bd9a576f"
      },
      "outputs": [
        {
          "output_type": "execute_result",
          "data": {
            "text/plain": [
              "status of existing checking account                         0\n",
              "Duration in months                                          0\n",
              "Credit History                                              0\n",
              "Purpose                                                     0\n",
              "Credit Amount                                               0\n",
              "Savings account/bonds                                       0\n",
              "Present employement since                                   0\n",
              "installement rate in percentage of disposable income        0\n",
              "Personal status and sex                                     0\n",
              "Other debtors / guarantors                                  0\n",
              "present residence since                                     0\n",
              "Property                                                    0\n",
              "Age in years                                                0\n",
              "Other installment plans                                     0\n",
              "Housing                                                     0\n",
              "Number of existing credits at this bank                     0\n",
              "Job                                                         0\n",
              "Number of people being liable to provide maintenance for    0\n",
              "Telephone                                                   0\n",
              "foreign worker                                              0\n",
              "label                                                       0\n",
              "dtype: int64"
            ]
          },
          "metadata": {},
          "execution_count": 65
        }
      ],
      "source": [
        "db.isnull().sum()  # check for incomplete data"
      ]
    },
    {
      "cell_type": "code",
      "execution_count": 66,
      "metadata": {
        "colab": {
          "base_uri": "https://localhost:8080/"
        },
        "id": "4hHLPAGCGbsh",
        "outputId": "40ed7e97-9927-4b7e-b59c-31b488ee9aba"
      },
      "outputs": [
        {
          "output_type": "execute_result",
          "data": {
            "text/plain": [
              "0"
            ]
          },
          "metadata": {},
          "execution_count": 66
        }
      ],
      "source": [
        "db.duplicated().sum() #check for duplicate data"
      ]
    },
    {
      "cell_type": "markdown",
      "metadata": {
        "id": "IqJyANFgKxrb"
      },
      "source": [
        "## <center> **Categorical Data Encoding** </center>"
      ]
    },
    {
      "cell_type": "code",
      "execution_count": 67,
      "metadata": {
        "id": "dNTHDjxM_5fv"
      },
      "outputs": [],
      "source": [
        "#Since there are some columns that represent qualitative values, we will encode these values so that the model can manipulate them\n",
        "\n",
        "#P.S.: We could have used pre-defined methods like One-Hot encoding in scikit-learn, but we decided to do it manually\n",
        "\n",
        "\n",
        "#encoding manually all categorical features :\n",
        "\n",
        "db['Personal status and sex'] = db['Personal status and sex'].replace(['A93', 'A92', 'A91', 'A94'], [0, 1, 2, 3])\n",
        "db['foreign worker'] = db['foreign worker'].replace(['A201', 'A202'], [1, 0])\n",
        "db['Savings account/bonds'] = db['Savings account/bonds'].replace(['A61', 'A62', 'A63', 'A64', 'A65'], [1, 2, 3, 4, 0])\n",
        "db['status of existing checking account'] = db['status of existing checking account'].replace(['A11', 'A12', 'A13', 'A14'], [1, 2, 3, 4])\n",
        "db['Credit History'] = db['Credit History'].replace(['A30', 'A31', 'A32', 'A33', 'A34'], [0, 1, 2, 3, 4])\n",
        "db['Purpose'] = db['Purpose'].replace(['A40', 'A41', 'A42', 'A43', 'A44', 'A45', 'A46', 'A48', 'A49', 'A410'], [1, 2, 3, 4, 5, 6, 7, 8, 9, 10])\n",
        "db['Present employement since'] = db['Present employement since'].replace(['A71', 'A72', 'A73', 'A74', 'A75'], [0, 1, 2, 3, 4])\n",
        "db['Other debtors / guarantors'] = db['Other debtors / guarantors'].replace(['A101', 'A102', 'A103'], [0, 1, 2])\n",
        "db['Property'] = db['Property'].replace(['A121', 'A122', 'A123', 'A124'], [0, 1, 2, 3])\n",
        "db['Other installment plans'] = db['Other installment plans'].replace(['A141', 'A142', 'A143'], [0, 1, 2])\n",
        "db['Housing'] = db['Housing'].replace(['A151', 'A152', 'A153'], [0, 1, 2])\n",
        "db['Job'] = db['Job'].replace(['A171', 'A172', 'A173', 'A174'], [0, 1, 2, 3])\n",
        "db['Telephone'] = db['Telephone'].replace(['A191', 'A192'], [0, 1])"
      ]
    },
    {
      "cell_type": "code",
      "source": [
        "x_raw = db[['status of existing checking account','Duration in months','Credit History','Purpose','Credit Amount','Savings account/bonds','Present employement since','installement rate in percentage of disposable income','Personal status and sex','Other debtors / guarantors','present residence since','Property','Age in years','Other installment plans', 'Housing', 'Number of existing credits at this bank', 'Job', 'Number of people being liable to provide maintenance for', 'Telephone', 'foreign worker']]\n",
        "x_raw.shape"
      ],
      "metadata": {
        "colab": {
          "base_uri": "https://localhost:8080/"
        },
        "id": "P8JRcf4g199F",
        "outputId": "486e51c1-292e-4c0b-ee56-bea158cf5d2e"
      },
      "execution_count": 68,
      "outputs": [
        {
          "output_type": "execute_result",
          "data": {
            "text/plain": [
              "(1000, 20)"
            ]
          },
          "metadata": {},
          "execution_count": 68
        }
      ]
    },
    {
      "cell_type": "markdown",
      "metadata": {
        "id": "4PHMApuvdE4y"
      },
      "source": [
        "## <center>**Data visualization : Imbalanced Data**</center>"
      ]
    },
    {
      "cell_type": "code",
      "execution_count": 69,
      "metadata": {
        "id": "MPgbTJSsb3fK"
      },
      "outputs": [],
      "source": [
        "import seaborn as sns\n",
        "sns.set(style=\"ticks\", color_codes=True)\n",
        "import matplotlib.pyplot as plt"
      ]
    },
    {
      "cell_type": "code",
      "execution_count": 70,
      "metadata": {
        "colab": {
          "base_uri": "https://localhost:8080/",
          "height": 247
        },
        "id": "zUd4veMuyine",
        "outputId": "92da7fb6-f1ed-4378-eb1e-4f66015f9987"
      },
      "outputs": [
        {
          "output_type": "stream",
          "name": "stderr",
          "text": [
            "/usr/local/lib/python3.10/dist-packages/seaborn/axisgrid.py:712: UserWarning: Using the countplot function without specifying `order` is likely to produce an incorrect plot.\n",
            "  warnings.warn(warning)\n"
          ]
        },
        {
          "output_type": "execute_result",
          "data": {
            "text/plain": [
              "<seaborn.axisgrid.FacetGrid at 0x795fb3d3ddb0>"
            ]
          },
          "metadata": {},
          "execution_count": 70
        },
        {
          "output_type": "display_data",
          "data": {
            "text/plain": [
              "<Figure size 4000x500 with 2 Axes>"
            ],
            "image/png": "[encoded data removed]"
          },
          "metadata": {}
        }
      ],
      "source": [
        "graph = sns.FacetGrid(db, col = 'label', aspect=4, height=5)\n",
        "graph.map(sns.countplot, 'Age in years')"
      ]
    },
    {
      "cell_type": "code",
      "execution_count": 71,
      "metadata": {
        "colab": {
          "base_uri": "https://localhost:8080/",
          "height": 510
        },
        "id": "GjAIYBi61USH",
        "outputId": "35a1ad33-87b6-41f7-8af1-5dcff7710df6"
      },
      "outputs": [
        {
          "output_type": "stream",
          "name": "stderr",
          "text": [
            "/usr/local/lib/python3.10/dist-packages/seaborn/axisgrid.py:712: UserWarning: Using the countplot function without specifying `order` is likely to produce an incorrect plot.\n",
            "  warnings.warn(warning)\n"
          ]
        },
        {
          "output_type": "execute_result",
          "data": {
            "text/plain": [
              "<seaborn.axisgrid.FacetGrid at 0x795fb3d3d4e0>"
            ]
          },
          "metadata": {},
          "execution_count": 71
        },
        {
          "output_type": "display_data",
          "data": {
            "text/plain": [
              "<Figure size 1500x500 with 2 Axes>"
            ],
            "image/png": "[encoded data removed]"
          },
          "metadata": {}
        }
      ],
      "source": [
        "graph = sns.FacetGrid(db, col = 'label', aspect=1.5, height=5)\n",
        "graph.map(sns.countplot, 'Personal status and sex', color = 'red')\n"
      ]
    },
    {
      "cell_type": "code",
      "execution_count": 72,
      "metadata": {
        "colab": {
          "base_uri": "https://localhost:8080/",
          "height": 476
        },
        "id": "yaOtbRoAfn4b",
        "outputId": "876b43bc-9c80-46a8-8678-e7a259593bf7"
      },
      "outputs": [
        {
          "output_type": "execute_result",
          "data": {
            "text/plain": [
              "<Axes: xlabel='Personal status and sex', ylabel='count'>"
            ]
          },
          "metadata": {},
          "execution_count": 72
        },
        {
          "output_type": "display_data",
          "data": {
            "text/plain": [
              "<Figure size 640x480 with 1 Axes>"
            ],
            "image/png": "[encoded data removed]"
          },
          "metadata": {}
        }
      ],
      "source": [
        "sns.countplot(x = 'Personal status and sex', data = db)"
      ]
    },
    {
      "cell_type": "code",
      "execution_count": 73,
      "metadata": {
        "colab": {
          "base_uri": "https://localhost:8080/",
          "height": 476
        },
        "id": "1uOqrC2mgX0e",
        "outputId": "a9fa948b-7853-400c-e461-f8ee66f7768e"
      },
      "outputs": [
        {
          "output_type": "execute_result",
          "data": {
            "text/plain": [
              "<Axes: xlabel='label', ylabel='count'>"
            ]
          },
          "metadata": {},
          "execution_count": 73
        },
        {
          "output_type": "display_data",
          "data": {
            "text/plain": [
              "<Figure size 640x480 with 1 Axes>"
            ],
            "image/png": "[encoded data removed]"
          },
          "metadata": {}
        }
      ],
      "source": [
        "sns.countplot(x = 'label', data = db)"
      ]
    },
    {
      "cell_type": "code",
      "source": [
        "################# LogisticRegression with raw data with all features included ####################################\n",
        "import statsmodels.api as sm\n",
        "y = db['label']\n",
        "y_bin = np.where(y == 2, 1, 0)\n",
        "logit_model=sm.Logit(y_bin,x_raw)\n",
        "result=logit_model.fit()\n",
        "print(result.summary())"
      ],
      "metadata": {
        "colab": {
          "base_uri": "https://localhost:8080/"
        },
        "id": "VcYvlcRb1oJ0",
        "outputId": "f9ae955e-6563-4a39-dc98-3beef64247e2"
      },
      "execution_count": 74,
      "outputs": [
        {
          "output_type": "stream",
          "name": "stdout",
          "text": [
            "Optimization terminated successfully.\n",
            "         Current function value: 0.486410\n",
            "         Iterations 6\n",
            "                           Logit Regression Results                           \n",
            "==============================================================================\n",
            "Dep. Variable:                      y   No. Observations:                 1000\n",
            "Model:                          Logit   Df Residuals:                      980\n",
            "Method:                           MLE   Df Model:                           19\n",
            "Date:                Sat, 04 Nov 2023   Pseudo R-squ.:                  0.2037\n",
            "Time:                        15:09:18   Log-Likelihood:                -486.41\n",
            "converged:                       True   LL-Null:                       -610.86\n",
            "Covariance Type:            nonrobust   LLR p-value:                 5.147e-42\n",
            "============================================================================================================================\n",
            "                                                               coef    std err          z      P>|z|      [0.025      0.975]\n",
            "----------------------------------------------------------------------------------------------------------------------------\n",
            "status of existing checking account                         -0.6423      0.069     -9.362      0.000      -0.777      -0.508\n",
            "Duration in months                                           0.0229      0.009      2.668      0.008       0.006       0.040\n",
            "Credit History                                              -0.3877      0.086     -4.523      0.000      -0.556      -0.220\n",
            "Purpose                                                     -0.0359      0.033     -1.099      0.272      -0.100       0.028\n",
            "Credit Amount                                             8.743e-05   3.92e-05      2.231      0.026    1.06e-05       0.000\n",
            "Savings account/bonds                                       -0.0274      0.088     -0.310      0.757      -0.200       0.146\n",
            "Present employement since                                   -0.1750      0.070     -2.493      0.013      -0.313      -0.037\n",
            "installement rate in percentage of disposable income         0.2621      0.079      3.312      0.001       0.107       0.417\n",
            "Personal status and sex                                      0.1494      0.086      1.728      0.084      -0.020       0.319\n",
            "Other debtors / guarantors                                  -0.3243      0.173     -1.880      0.060      -0.662       0.014\n",
            "present residence since                                     -0.0064      0.076     -0.084      0.933      -0.154       0.142\n",
            "Property                                                     0.2077      0.090      2.298      0.022       0.031       0.385\n",
            "Age in years                                                -0.0092      0.008     -1.154      0.249      -0.025       0.006\n",
            "Other installment plans                                     -0.3136      0.106     -2.970      0.003      -0.521      -0.107\n",
            "Housing                                                     -0.2717      0.163     -1.662      0.097      -0.592       0.049\n",
            "Number of existing credits at this bank                      0.2825      0.158      1.784      0.074      -0.028       0.593\n",
            "Job                                                         -0.0060      0.131     -0.046      0.963      -0.263       0.251\n",
            "Number of people being liable to provide maintenance for     0.0970      0.218      0.445      0.656      -0.331       0.525\n",
            "Telephone                                                   -0.3474      0.183     -1.898      0.058      -0.706       0.011\n",
            "foreign worker                                               1.0237      0.439      2.331      0.020       0.163       1.885\n",
            "============================================================================================================================\n"
          ]
        }
      ]
    },
    {
      "cell_type": "markdown",
      "source": [
        "#We will minimize the number of features by selecting only significant features based on their associated coefficients in the Logisic Regression Model\n"
      ],
      "metadata": {
        "id": "18Jgzlu9AP8e"
      }
    },
    {
      "cell_type": "code",
      "source": [
        "# print feature's name is its associated coefficient is larger than 0.1\n",
        "\n",
        "features = x_raw.columns\n",
        "coefficients = result.params\n",
        "\n",
        "for feature, coef in zip(features, coefficients):\n",
        "    if abs(coef) >= 0.1:\n",
        "        print(feature + \": \" + str(coef))"
      ],
      "metadata": {
        "colab": {
          "base_uri": "https://localhost:8080/"
        },
        "id": "6khbYZzHYPxN",
        "outputId": "f816f495-0f36-411a-a012-b494caa2e7d7"
      },
      "execution_count": 75,
      "outputs": [
        {
          "output_type": "stream",
          "name": "stdout",
          "text": [
            "status of existing checking account: -0.6423465562306443\n",
            "Credit History: -0.38769154271372863\n",
            "Present employement since: -0.17497780913006097\n",
            "installement rate in percentage of disposable income: 0.26206079046885894\n",
            "Personal status and sex: 0.14936867736147236\n",
            "Other debtors / guarantors: -0.324271098779662\n",
            "Property: 0.20770165082447267\n",
            "Other installment plans: -0.3135868526474509\n",
            "Housing: -0.27173032061313307\n",
            "Number of existing credits at this bank: 0.2825353320288003\n",
            "Telephone: -0.34742653833492576\n",
            "foreign worker: 1.0236645542602945\n"
          ]
        }
      ]
    },
    {
      "cell_type": "code",
      "source": [
        "#selecting only the significant features shown in the output above (feature engineering : fe)\n",
        "\n",
        "x_fe = db[['status of existing checking account', 'Credit History', 'Present employement since', 'installement rate in percentage of disposable income', 'Personal status and sex', 'Other debtors / guarantors', 'Property', 'Other installment plans', 'Housing', 'Number of existing credits at this bank', 'Telephone','foreign worker']]\n",
        "\n",
        "\n",
        "y = db['label']\n",
        "\n",
        "#We show the modified data\n",
        "x_fe.head()"
      ],
      "metadata": {
        "colab": {
          "base_uri": "https://localhost:8080/",
          "height": 258
        },
        "id": "LPyHJMj_zOJ_",
        "outputId": "bb71e878-fe65-41e7-90d2-68b3b4e0f9fb"
      },
      "execution_count": 76,
      "outputs": [
        {
          "output_type": "execute_result",
          "data": {
            "text/plain": [
              "   status of existing checking account  Credit History  \\\n",
              "0                                    1               4   \n",
              "1                                    2               2   \n",
              "2                                    4               4   \n",
              "3                                    1               2   \n",
              "4                                    1               3   \n",
              "\n",
              "   Present employement since  \\\n",
              "0                          4   \n",
              "1                          2   \n",
              "2                          3   \n",
              "3                          3   \n",
              "4                          2   \n",
              "\n",
              "   installement rate in percentage of disposable income  \\\n",
              "0                                                  4      \n",
              "1                                                  2      \n",
              "2                                                  2      \n",
              "3                                                  2      \n",
              "4                                                  3      \n",
              "\n",
              "   Personal status and sex  Other debtors / guarantors  Property  \\\n",
              "0                        0                           0         0   \n",
              "1                        1                           0         0   \n",
              "2                        0                           0         0   \n",
              "3                        0                           2         1   \n",
              "4                        0                           0         3   \n",
              "\n",
              "   Other installment plans  Housing  Number of existing credits at this bank  \\\n",
              "0                        2        1                                        2   \n",
              "1                        2        1                                        1   \n",
              "2                        2        1                                        1   \n",
              "3                        2        2                                        1   \n",
              "4                        2        2                                        2   \n",
              "\n",
              "   Telephone  foreign worker  \n",
              "0          1               1  \n",
              "1          0               1  \n",
              "2          0               1  \n",
              "3          0               1  \n",
              "4          0               1  "
            ],
            "text/html": [
              "\n",
              "  <div id=\"df-51e1c3eb-f47b-4290-8d40-3d0082f91c72\" class=\"colab-df-container\">\n",
              "    <div>\n",
              "<style scoped>\n",
              "    .dataframe tbody tr th:only-of-type {\n",
              "        vertical-align: middle;\n",
              "    }\n",
              "\n",
              "    .dataframe tbody tr th {\n",
              "        vertical-align: top;\n",
              "    }\n",
              "\n",
              "    .dataframe thead th {\n",
              "        text-align: right;\n",
              "    }\n",
              "</style>\n",
              "<table border=\"1\" class=\"dataframe\">\n",
              "  <thead>\n",
              "    <tr style=\"text-align: right;\">\n",
              "      <th></th>\n",
              "      <th>status of existing checking account</th>\n",
              "      <th>Credit History</th>\n",
              "      <th>Present employement since</th>\n",
              "      <th>installement rate in percentage of disposable income</th>\n",
              "      <th>Personal status and sex</th>\n",
              "      <th>Other debtors / guarantors</th>\n",
              "      <th>Property</th>\n",
              "      <th>Other installment plans</th>\n",
              "      <th>Housing</th>\n",
              "      <th>Number of existing credits at this bank</th>\n",
              "      <th>Telephone</th>\n",
              "      <th>foreign worker</th>\n",
              "    </tr>\n",
              "  </thead>\n",
              "  <tbody>\n",
              "    <tr>\n",
              "      <th>0</th>\n",
              "      <td>1</td>\n",
              "      <td>4</td>\n",
              "      <td>4</td>\n",
              "      <td>4</td>\n",
              "      <td>0</td>\n",
              "      <td>0</td>\n",
              "      <td>0</td>\n",
              "      <td>2</td>\n",
              "      <td>1</td>\n",
              "      <td>2</td>\n",
              "      <td>1</td>\n",
              "      <td>1</td>\n",
              "    </tr>\n",
              "    <tr>\n",
              "      <th>1</th>\n",
              "      <td>2</td>\n",
              "      <td>2</td>\n",
              "      <td>2</td>\n",
              "      <td>2</td>\n",
              "      <td>1</td>\n",
              "      <td>0</td>\n",
              "      <td>0</td>\n",
              "      <td>2</td>\n",
              "      <td>1</td>\n",
              "      <td>1</td>\n",
              "      <td>0</td>\n",
              "      <td>1</td>\n",
              "    </tr>\n",
              "    <tr>\n",
              "      <th>2</th>\n",
              "      <td>4</td>\n",
              "      <td>4</td>\n",
              "      <td>3</td>\n",
              "      <td>2</td>\n",
              "      <td>0</td>\n",
              "      <td>0</td>\n",
              "      <td>0</td>\n",
              "      <td>2</td>\n",
              "      <td>1</td>\n",
              "      <td>1</td>\n",
              "      <td>0</td>\n",
              "      <td>1</td>\n",
              "    </tr>\n",
              "    <tr>\n",
              "      <th>3</th>\n",
              "      <td>1</td>\n",
              "      <td>2</td>\n",
              "      <td>3</td>\n",
              "      <td>2</td>\n",
              "      <td>0</td>\n",
              "      <td>2</td>\n",
              "      <td>1</td>\n",
              "      <td>2</td>\n",
              "      <td>2</td>\n",
              "      <td>1</td>\n",
              "      <td>0</td>\n",
              "      <td>1</td>\n",
              "    </tr>\n",
              "    <tr>\n",
              "      <th>4</th>\n",
              "      <td>1</td>\n",
              "      <td>3</td>\n",
              "      <td>2</td>\n",
              "      <td>3</td>\n",
              "      <td>0</td>\n",
              "      <td>0</td>\n",
              "      <td>3</td>\n",
              "      <td>2</td>\n",
              "      <td>2</td>\n",
              "      <td>2</td>\n",
              "      <td>0</td>\n",
              "      <td>1</td>\n",
              "    </tr>\n",
              "  </tbody>\n",
              "</table>\n",
              "</div>\n",
              "    <div class=\"colab-df-buttons\">\n",
              "\n",
              "  <div class=\"colab-df-container\">\n",
              "    <button class=\"colab-df-convert\" onclick=\"convertToInteractive('df-51e1c3eb-f47b-4290-8d40-3d0082f91c72')\"\n",
              "            title=\"Convert this dataframe to an interactive table.\"\n",
              "            style=\"display:none;\">\n",
              "\n",
              "  <svg xmlns=\"http://www.w3.org/2000/svg\" height=\"24px\" viewBox=\"0 -960 960 960\">\n",
              "    <path d=\"M120-120v-720h720v720H120Zm60-500h600v-160H180v160Zm220 220h160v-160H400v160Zm0 220h160v-160H400v160ZM180-400h160v-160H180v160Zm440 0h160v-160H620v160ZM180-180h160v-160H180v160Zm440 0h160v-160H620v160Z\"/>\n",
              "  </svg>\n",
              "    </button>\n",
              "\n",
              "  <style>\n",
              "    .colab-df-container {\n",
              "      display:flex;\n",
              "      gap: 12px;\n",
              "    }\n",
              "\n",
              "    .colab-df-convert {\n",
              "      background-color: #E8F0FE;\n",
              "      border: none;\n",
              "      border-radius: 50%;\n",
              "      cursor: pointer;\n",
              "      display: none;\n",
              "      fill: #1967D2;\n",
              "      height: 32px;\n",
              "      padding: 0 0 0 0;\n",
              "      width: 32px;\n",
              "    }\n",
              "\n",
              "    .colab-df-convert:hover {\n",
              "      background-color: #E2EBFA;\n",
              "      box-shadow: 0px 1px 2px rgba(60, 64, 67, 0.3), 0px 1px 3px 1px rgba(60, 64, 67, 0.15);\n",
              "      fill: #174EA6;\n",
              "    }\n",
              "\n",
              "    .colab-df-buttons div {\n",
              "      margin-bottom: 4px;\n",
              "    }\n",
              "\n",
              "    [theme=dark] .colab-df-convert {\n",
              "      background-color: #3B4455;\n",
              "      fill: #D2E3FC;\n",
              "    }\n",
              "\n",
              "    [theme=dark] .colab-df-convert:hover {\n",
              "      background-color: #434B5C;\n",
              "      box-shadow: 0px 1px 3px 1px rgba(0, 0, 0, 0.15);\n",
              "      filter: drop-shadow(0px 1px 2px rgba(0, 0, 0, 0.3));\n",
              "      fill: #FFFFFF;\n",
              "    }\n",
              "  </style>\n",
              "\n",
              "    <script>\n",
              "      const buttonEl =\n",
              "        document.querySelector('#df-51e1c3eb-f47b-4290-8d40-3d0082f91c72 button.colab-df-convert');\n",
              "      buttonEl.style.display =\n",
              "        google.colab.kernel.accessAllowed ? 'block' : 'none';\n",
              "\n",
              "      async function convertToInteractive(key) {\n",
              "        const element = document.querySelector('#df-51e1c3eb-f47b-4290-8d40-3d0082f91c72');\n",
              "        const dataTable =\n",
              "          await google.colab.kernel.invokeFunction('convertToInteractive',\n",
              "                                                    [key], {});\n",
              "        if (!dataTable) return;\n",
              "\n",
              "        const docLinkHtml = 'Like what you see? Visit the ' +\n",
              "          '<a target=\"_blank\" href=https://colab.research.google.com/notebooks/data_table.ipynb>data table notebook</a>'\n",
              "          + ' to learn more about interactive tables.';\n",
              "        element.innerHTML = '';\n",
              "        dataTable['output_type'] = 'display_data';\n",
              "        await google.colab.output.renderOutput(dataTable, element);\n",
              "        const docLink = document.createElement('div');\n",
              "        docLink.innerHTML = docLinkHtml;\n",
              "        element.appendChild(docLink);\n",
              "      }\n",
              "    </script>\n",
              "  </div>\n",
              "\n",
              "\n",
              "<div id=\"df-ce5dd4c0-2899-461d-9ebe-e6328f59982d\">\n",
              "  <button class=\"colab-df-quickchart\" onclick=\"quickchart('df-ce5dd4c0-2899-461d-9ebe-e6328f59982d')\"\n",
              "            title=\"Suggest charts.\"\n",
              "            style=\"display:none;\">\n",
              "\n",
              "<svg xmlns=\"http://www.w3.org/2000/svg\" height=\"24px\"viewBox=\"0 0 24 24\"\n",
              "     width=\"24px\">\n",
              "    <g>\n",
              "        <path d=\"M19 3H5c-1.1 0-2 .9-2 2v14c0 1.1.9 2 2 2h14c1.1 0 2-.9 2-2V5c0-1.1-.9-2-2-2zM9 17H7v-7h2v7zm4 0h-2V7h2v10zm4 0h-2v-4h2v4z\"/>\n",
              "    </g>\n",
              "</svg>\n",
              "  </button>\n",
              "\n",
              "<style>\n",
              "  .colab-df-quickchart {\n",
              "      --bg-color: #E8F0FE;\n",
              "      --fill-color: #1967D2;\n",
              "      --hover-bg-color: #E2EBFA;\n",
              "      --hover-fill-color: #174EA6;\n",
              "      --disabled-fill-color: #AAA;\n",
              "      --disabled-bg-color: #DDD;\n",
              "  }\n",
              "\n",
              "  [theme=dark] .colab-df-quickchart {\n",
              "      --bg-color: #3B4455;\n",
              "      --fill-color: #D2E3FC;\n",
              "      --hover-bg-color: #434B5C;\n",
              "      --hover-fill-color: #FFFFFF;\n",
              "      --disabled-bg-color: #3B4455;\n",
              "      --disabled-fill-color: #666;\n",
              "  }\n",
              "\n",
              "  .colab-df-quickchart {\n",
              "    background-color: var(--bg-color);\n",
              "    border: none;\n",
              "    border-radius: 50%;\n",
              "    cursor: pointer;\n",
              "    display: none;\n",
              "    fill: var(--fill-color);\n",
              "    height: 32px;\n",
              "    padding: 0;\n",
              "    width: 32px;\n",
              "  }\n",
              "\n",
              "  .colab-df-quickchart:hover {\n",
              "    background-color: var(--hover-bg-color);\n",
              "    box-shadow: 0 1px 2px rgba(60, 64, 67, 0.3), 0 1px 3px 1px rgba(60, 64, 67, 0.15);\n",
              "    fill: var(--button-hover-fill-color);\n",
              "  }\n",
              "\n",
              "  .colab-df-quickchart-complete:disabled,\n",
              "  .colab-df-quickchart-complete:disabled:hover {\n",
              "    background-color: var(--disabled-bg-color);\n",
              "    fill: var(--disabled-fill-color);\n",
              "    box-shadow: none;\n",
              "  }\n",
              "\n",
              "  .colab-df-spinner {\n",
              "    border: 2px solid var(--fill-color);\n",
              "    border-color: transparent;\n",
              "    border-bottom-color: var(--fill-color);\n",
              "    animation:\n",
              "      spin 1s steps(1) infinite;\n",
              "  }\n",
              "\n",
              "  @keyframes spin {\n",
              "    0% {\n",
              "      border-color: transparent;\n",
              "      border-bottom-color: var(--fill-color);\n",
              "      border-left-color: var(--fill-color);\n",
              "    }\n",
              "    20% {\n",
              "      border-color: transparent;\n",
              "      border-left-color: var(--fill-color);\n",
              "      border-top-color: var(--fill-color);\n",
              "    }\n",
              "    30% {\n",
              "      border-color: transparent;\n",
              "      border-left-color: var(--fill-color);\n",
              "      border-top-color: var(--fill-color);\n",
              "      border-right-color: var(--fill-color);\n",
              "    }\n",
              "    40% {\n",
              "      border-color: transparent;\n",
              "      border-right-color: var(--fill-color);\n",
              "      border-top-color: var(--fill-color);\n",
              "    }\n",
              "    60% {\n",
              "      border-color: transparent;\n",
              "      border-right-color: var(--fill-color);\n",
              "    }\n",
              "    80% {\n",
              "      border-color: transparent;\n",
              "      border-right-color: var(--fill-color);\n",
              "      border-bottom-color: var(--fill-color);\n",
              "    }\n",
              "    90% {\n",
              "      border-color: transparent;\n",
              "      border-bottom-color: var(--fill-color);\n",
              "    }\n",
              "  }\n",
              "</style>\n",
              "\n",
              "  <script>\n",
              "    async function quickchart(key) {\n",
              "      const quickchartButtonEl =\n",
              "        document.querySelector('#' + key + ' button');\n",
              "      quickchartButtonEl.disabled = true;  // To prevent multiple clicks.\n",
              "      quickchartButtonEl.classList.add('colab-df-spinner');\n",
              "      try {\n",
              "        const charts = await google.colab.kernel.invokeFunction(\n",
              "            'suggestCharts', [key], {});\n",
              "      } catch (error) {\n",
              "        console.error('Error during call to suggestCharts:', error);\n",
              "      }\n",
              "      quickchartButtonEl.classList.remove('colab-df-spinner');\n",
              "      quickchartButtonEl.classList.add('colab-df-quickchart-complete');\n",
              "    }\n",
              "    (() => {\n",
              "      let quickchartButtonEl =\n",
              "        document.querySelector('#df-ce5dd4c0-2899-461d-9ebe-e6328f59982d button');\n",
              "      quickchartButtonEl.style.display =\n",
              "        google.colab.kernel.accessAllowed ? 'block' : 'none';\n",
              "    })();\n",
              "  </script>\n",
              "</div>\n",
              "    </div>\n",
              "  </div>\n"
            ]
          },
          "metadata": {},
          "execution_count": 76
        }
      ]
    },
    {
      "cell_type": "markdown",
      "metadata": {
        "id": "Q3iXeXgBOHex"
      },
      "source": [
        "# <center>**Machine learning models : Imbalanced Data**</center>\n",
        "\n",
        "\n",
        "\n"
      ]
    },
    {
      "cell_type": "markdown",
      "source": [
        "# Construction of three ML models"
      ],
      "metadata": {
        "id": "qpYcypTYhZD2"
      }
    },
    {
      "cell_type": "code",
      "execution_count": 77,
      "metadata": {
        "id": "lndevkHCSaTC"
      },
      "outputs": [],
      "source": [
        "from sklearn.linear_model import LogisticRegression #importation du modèle de la regression logistique\n",
        "from sklearn.naive_bayes import GaussianNB\n",
        "from sklearn.svm import SVC\n",
        "from sklearn.model_selection import train_test_split\n",
        "from sklearn.preprocessing import MinMaxScaler"
      ]
    },
    {
      "cell_type": "code",
      "execution_count": 78,
      "metadata": {
        "id": "MsBjxjgiJ437"
      },
      "outputs": [],
      "source": [
        "# We scale the values of the dataset to the intervalle [0,1]\n",
        "# To achieve this we proceed by subtracting the minimum value of each feature and then dividing by the range\n",
        "\n",
        "scaler = MinMaxScaler()\n",
        "scaler.fit(x_raw)\n",
        "x_raw_scaled = scaler.transform(x_raw)\n"
      ]
    },
    {
      "cell_type": "code",
      "execution_count": 79,
      "metadata": {
        "colab": {
          "base_uri": "https://localhost:8080/"
        },
        "id": "nVwDt_GQQ0Mp",
        "outputId": "a5ec0b6c-bcf5-4a64-b5e1-18fa966146ff"
      },
      "outputs": [
        {
          "output_type": "stream",
          "name": "stdout",
          "text": [
            "(800, 20)\n",
            "(200, 20)\n",
            "(800,)\n",
            "(200,)\n"
          ]
        }
      ],
      "source": [
        "# We split the data into train and test\n",
        "x_train, x_test, y_train, y_test = train_test_split(x_raw_scaled, y, train_size = 0.8, random_state = 50)\n",
        "\n",
        "# Let's verify the shape of our train and test matrices\n",
        "print(x_train.shape)\n",
        "print(x_test.shape)\n",
        "print(y_train.shape)\n",
        "print(y_test.shape)"
      ]
    },
    {
      "cell_type": "markdown",
      "source": [
        "## 1st Three Models : LogisticReg + GaussianNBS + **SVC (Kernel : 'rbf')**"
      ],
      "metadata": {
        "id": "Y1TGt9m9lsdA"
      }
    },
    {
      "cell_type": "code",
      "execution_count": 80,
      "metadata": {
        "id": "prKu0UOuUVKX"
      },
      "outputs": [],
      "source": [
        "\n",
        "Three_Models_I = {\n",
        "    'LogisticRegression' : LogisticRegression(random_state = 25),\n",
        "    'GaussianNBS' : GaussianNB(),\n",
        "    'SVC' : SVC(kernel='rbf', probability=False)\n",
        "}\n"
      ]
    },
    {
      "cell_type": "markdown",
      "source": [
        "## Three Models : LogisticReg + GaussianNBS + **SVC (Kernel : 'poly')**"
      ],
      "metadata": {
        "id": "WpQgeyxbgwk-"
      }
    },
    {
      "cell_type": "code",
      "source": [
        "\n",
        "# We define the same 3 models, but this time SVC with kernel = poly\n",
        "\n",
        "Three_Models_II = {\n",
        "    'LogisticRegression' : LogisticRegression(random_state = 25),\n",
        "    'GaussianNBS' : GaussianNB(),\n",
        "    'SVC' : SVC(kernel='poly', probability=False)\n",
        "}"
      ],
      "metadata": {
        "id": "CQxTU9mwegs2"
      },
      "execution_count": 81,
      "outputs": []
    },
    {
      "cell_type": "markdown",
      "source": [
        "## 3rd three Models : LogisticReg + GaussianNBS + **SVC (3rd Kernel 'precomputed')** (failed)"
      ],
      "metadata": {
        "id": "vJwM4_csaRSi"
      }
    },
    {
      "cell_type": "code",
      "source": [
        "# We define the same 3 models, but this time SVC with kernel = precomputed\n",
        "Three_Models_III  = {\n",
        "    'LogisticRegression' : LogisticRegression(random_state = 25),\n",
        "    'GaussianNBS' : GaussianNB(),\n",
        "    'SVC' : SVC(kernel='precomputed', probability=False)\n",
        "}"
      ],
      "metadata": {
        "id": "ka39lwBoSa25"
      },
      "execution_count": 82,
      "outputs": []
    },
    {
      "cell_type": "markdown",
      "source": [
        "#Training & evaluation of the three Models"
      ],
      "metadata": {
        "id": "HCsD7H6D_oEx"
      }
    },
    {
      "cell_type": "code",
      "execution_count": 83,
      "metadata": {
        "id": "GOZMOZ_4ZC-g"
      },
      "outputs": [],
      "source": [
        "from sklearn.metrics import precision_score, recall_score , accuracy_score, confusion_matrix\n",
        "\n",
        "def metrics(y_true, y_predict, retur = False):\n",
        "    pre = precision_score(y_true, y_predict, average = 'macro')\n",
        "    rec = recall_score(y_true, y_predict, average = 'macro')\n",
        "    accuracy = accuracy_score(y_true, y_predict)\n",
        "    if retur :\n",
        "      return pre, rec, accuracy_score\n",
        "    else:\n",
        "      print('precision : ', pre)\n",
        "      print('recall : ', rec)\n",
        "      print('accuracy : ', accuracy)"
      ]
    },
    {
      "cell_type": "code",
      "execution_count": 84,
      "metadata": {
        "id": "v9vCqlO7y1wD"
      },
      "outputs": [],
      "source": [
        "def train_and_evaluate(models, x, y):\n",
        "  for name, model in models.items():\n",
        "    print(name, ':')\n",
        "    model.fit(x,y)\n",
        "    metrics(y, model.predict(x))\n",
        "    print(\"-\" * 30)"
      ]
    },
    {
      "cell_type": "code",
      "source": [
        "print('Three_Models_I')\n",
        "print(' ')\n",
        "train_and_evaluate(Three_Models_I,x_train, y_train)\n",
        "\n",
        "print('=' * 30)\n",
        "print(' ' )\n",
        "print(' ' )\n",
        "\n",
        "print('Three_Models_II')\n",
        "print(' ' )\n",
        "train_and_evaluate(Three_Models_II ,x_train, y_train)\n",
        "\n",
        "print('=' * 30)\n",
        "print(' ')\n",
        "print(' ' )\n",
        "\n",
        "print('Three_Models_III')\n",
        "print(' ')\n",
        "train_and_evaluate(Three_Models_III,x_train, y_train)\n",
        "\n",
        " #P.S.: the SVC model with 'precomputed' kernel didn't work because it requires the data x as a square matrix while we have the matrix'x' of size 800x11"
      ],
      "metadata": {
        "colab": {
          "base_uri": "https://localhost:8080/",
          "height": 1000
        },
        "id": "uzK4KlKN_k7k",
        "outputId": "1ea9e5ee-55f5-41f2-9c89-104ae9eaf184"
      },
      "execution_count": 86,
      "outputs": [
        {
          "output_type": "stream",
          "name": "stdout",
          "text": [
            "Three_Models_I\n",
            " \n",
            "LogisticRegression :\n",
            "precision :  0.7186381729725383\n",
            "recall :  0.6630130929094439\n",
            "accuracy :  0.76125\n",
            "------------------------------\n",
            "GaussianNBS :\n",
            "precision :  0.6998697916666667\n",
            "recall :  0.7208782067135824\n",
            "accuracy :  0.74125\n",
            "------------------------------\n",
            "SVC :\n",
            "precision :  0.8232554200542005\n",
            "recall :  0.728852365642167\n",
            "accuracy :  0.82125\n",
            "------------------------------\n",
            "==============================\n",
            " \n",
            " \n",
            "Three_Models_II\n",
            " \n",
            "LogisticRegression :\n",
            "precision :  0.7186381729725383\n",
            "recall :  0.6630130929094439\n",
            "accuracy :  0.76125\n",
            "------------------------------\n",
            "GaussianNBS :\n",
            "precision :  0.6998697916666667\n",
            "recall :  0.7208782067135824\n",
            "accuracy :  0.74125\n",
            "------------------------------\n",
            "SVC :\n",
            "precision :  0.8725625206566046\n",
            "recall :  0.8041347213166355\n",
            "accuracy :  0.86875\n",
            "------------------------------\n",
            "==============================\n",
            " \n",
            " \n",
            "Three_Models_III\n",
            " \n",
            "LogisticRegression :\n",
            "precision :  0.7186381729725383\n",
            "recall :  0.6630130929094439\n",
            "accuracy :  0.76125\n",
            "------------------------------\n",
            "GaussianNBS :\n",
            "precision :  0.6998697916666667\n",
            "recall :  0.7208782067135824\n",
            "accuracy :  0.74125\n",
            "------------------------------\n",
            "SVC :\n"
          ]
        },
        {
          "output_type": "error",
          "ename": "ValueError",
          "evalue": "ignored",
          "traceback": [
            "\u001b[0;31m---------------------------------------------------------------------------\u001b[0m",
            "\u001b[0;31mValueError\u001b[0m                                Traceback (most recent call last)",
            "\u001b[0;32m<ipython-input-86-24c2673fbe9f>\u001b[0m in \u001b[0;36m<cell line: 19>\u001b[0;34m()\u001b[0m\n\u001b[1;32m     17\u001b[0m \u001b[0mprint\u001b[0m\u001b[0;34m(\u001b[0m\u001b[0;34m'Three_Models_III'\u001b[0m\u001b[0;34m)\u001b[0m\u001b[0;34m\u001b[0m\u001b[0;34m\u001b[0m\u001b[0m\n\u001b[1;32m     18\u001b[0m \u001b[0mprint\u001b[0m\u001b[0;34m(\u001b[0m\u001b[0;34m' '\u001b[0m\u001b[0;34m)\u001b[0m\u001b[0;34m\u001b[0m\u001b[0;34m\u001b[0m\u001b[0m\n\u001b[0;32m---> 19\u001b[0;31m \u001b[0mtrain_and_evaluate\u001b[0m\u001b[0;34m(\u001b[0m\u001b[0mThree_Models_III\u001b[0m\u001b[0;34m,\u001b[0m\u001b[0mx_train\u001b[0m\u001b[0;34m,\u001b[0m \u001b[0my_train\u001b[0m\u001b[0;34m)\u001b[0m\u001b[0;34m\u001b[0m\u001b[0;34m\u001b[0m\u001b[0m\n\u001b[0m\u001b[1;32m     20\u001b[0m \u001b[0;34m\u001b[0m\u001b[0m\n\u001b[1;32m     21\u001b[0m  \u001b[0;31m#P.S.: the SVC model with 'precomputed' kernel didn't work because it requires the data x as a square matrix while we have the matrix'x' of size 800x11\u001b[0m\u001b[0;34m\u001b[0m\u001b[0;34m\u001b[0m\u001b[0m\n",
            "\u001b[0;32m<ipython-input-84-a9971dd91caf>\u001b[0m in \u001b[0;36mtrain_and_evaluate\u001b[0;34m(models, x, y)\u001b[0m\n\u001b[1;32m      2\u001b[0m   \u001b[0;32mfor\u001b[0m \u001b[0mname\u001b[0m\u001b[0;34m,\u001b[0m \u001b[0mmodel\u001b[0m \u001b[0;32min\u001b[0m \u001b[0mmodels\u001b[0m\u001b[0;34m.\u001b[0m\u001b[0mitems\u001b[0m\u001b[0;34m(\u001b[0m\u001b[0;34m)\u001b[0m\u001b[0;34m:\u001b[0m\u001b[0;34m\u001b[0m\u001b[0;34m\u001b[0m\u001b[0m\n\u001b[1;32m      3\u001b[0m     \u001b[0mprint\u001b[0m\u001b[0;34m(\u001b[0m\u001b[0mname\u001b[0m\u001b[0;34m,\u001b[0m \u001b[0;34m':'\u001b[0m\u001b[0;34m)\u001b[0m\u001b[0;34m\u001b[0m\u001b[0;34m\u001b[0m\u001b[0m\n\u001b[0;32m----> 4\u001b[0;31m     \u001b[0mmodel\u001b[0m\u001b[0;34m.\u001b[0m\u001b[0mfit\u001b[0m\u001b[0;34m(\u001b[0m\u001b[0mx\u001b[0m\u001b[0;34m,\u001b[0m\u001b[0my\u001b[0m\u001b[0;34m)\u001b[0m\u001b[0;34m\u001b[0m\u001b[0;34m\u001b[0m\u001b[0m\n\u001b[0m\u001b[1;32m      5\u001b[0m     \u001b[0mmetrics\u001b[0m\u001b[0;34m(\u001b[0m\u001b[0my\u001b[0m\u001b[0;34m,\u001b[0m \u001b[0mmodel\u001b[0m\u001b[0;34m.\u001b[0m\u001b[0mpredict\u001b[0m\u001b[0;34m(\u001b[0m\u001b[0mx\u001b[0m\u001b[0;34m)\u001b[0m\u001b[0;34m)\u001b[0m\u001b[0;34m\u001b[0m\u001b[0;34m\u001b[0m\u001b[0m\n\u001b[1;32m      6\u001b[0m     \u001b[0mprint\u001b[0m\u001b[0;34m(\u001b[0m\u001b[0;34m\"-\"\u001b[0m \u001b[0;34m*\u001b[0m \u001b[0;36m30\u001b[0m\u001b[0;34m)\u001b[0m\u001b[0;34m\u001b[0m\u001b[0;34m\u001b[0m\u001b[0m\n",
            "\u001b[0;32m/usr/local/lib/python3.10/dist-packages/sklearn/svm/_base.py\u001b[0m in \u001b[0;36mfit\u001b[0;34m(self, X, y, sample_weight)\u001b[0m\n\u001b[1;32m    215\u001b[0m \u001b[0;34m\u001b[0m\u001b[0m\n\u001b[1;32m    216\u001b[0m         \u001b[0;32mif\u001b[0m \u001b[0mself\u001b[0m\u001b[0;34m.\u001b[0m\u001b[0mkernel\u001b[0m \u001b[0;34m==\u001b[0m \u001b[0;34m\"precomputed\"\u001b[0m \u001b[0;32mand\u001b[0m \u001b[0mn_samples\u001b[0m \u001b[0;34m!=\u001b[0m \u001b[0mX\u001b[0m\u001b[0;34m.\u001b[0m\u001b[0mshape\u001b[0m\u001b[0;34m[\u001b[0m\u001b[0;36m1\u001b[0m\u001b[0;34m]\u001b[0m\u001b[0;34m:\u001b[0m\u001b[0;34m\u001b[0m\u001b[0;34m\u001b[0m\u001b[0m\n\u001b[0;32m--> 217\u001b[0;31m             raise ValueError(\n\u001b[0m\u001b[1;32m    218\u001b[0m                 \u001b[0;34m\"Precomputed matrix must be a square matrix.\"\u001b[0m\u001b[0;34m\u001b[0m\u001b[0;34m\u001b[0m\u001b[0m\n\u001b[1;32m    219\u001b[0m                 \u001b[0;34m\" Input is a {}x{} matrix.\"\u001b[0m\u001b[0;34m.\u001b[0m\u001b[0mformat\u001b[0m\u001b[0;34m(\u001b[0m\u001b[0mX\u001b[0m\u001b[0;34m.\u001b[0m\u001b[0mshape\u001b[0m\u001b[0;34m[\u001b[0m\u001b[0;36m0\u001b[0m\u001b[0;34m]\u001b[0m\u001b[0;34m,\u001b[0m \u001b[0mX\u001b[0m\u001b[0;34m.\u001b[0m\u001b[0mshape\u001b[0m\u001b[0;34m[\u001b[0m\u001b[0;36m1\u001b[0m\u001b[0;34m]\u001b[0m\u001b[0;34m)\u001b[0m\u001b[0;34m\u001b[0m\u001b[0;34m\u001b[0m\u001b[0m\n",
            "\u001b[0;31mValueError\u001b[0m: Precomputed matrix must be a square matrix. Input is a 800x20 matrix."
          ]
        }
      ]
    },
    {
      "cell_type": "markdown",
      "source": [
        "# <center> A **4th model** (Deep Learning)\n",
        "#<center> **Artificial Neural Network (ANN) : Imbalanced Data**"
      ],
      "metadata": {
        "id": "ZoBEkUDfmE-w"
      }
    },
    {
      "cell_type": "code",
      "execution_count": 87,
      "metadata": {
        "id": "OjGOgV5Xfsss"
      },
      "outputs": [],
      "source": [
        "from sklearn.preprocessing import StandardScaler\n",
        "from tensorflow.keras.models import Sequential\n",
        "from tensorflow.keras.layers import Dense"
      ]
    },
    {
      "cell_type": "code",
      "execution_count": 88,
      "metadata": {
        "colab": {
          "base_uri": "https://localhost:8080/"
        },
        "id": "FVs-qaQViDhU",
        "outputId": "04cc1408-ccbc-4301-93e3-e6c1c0b7b23b"
      },
      "outputs": [
        {
          "output_type": "stream",
          "name": "stdout",
          "text": [
            "Epoch 1/50\n",
            "18/18 [==============================] - 1s 13ms/step - loss: 0.5058 - accuracy: 0.6875 - val_loss: 0.3463 - val_accuracy: 0.7375\n",
            "Epoch 2/50\n",
            "18/18 [==============================] - 0s 6ms/step - loss: 0.3686 - accuracy: 0.6893 - val_loss: 0.2878 - val_accuracy: 0.7375\n",
            "Epoch 3/50\n",
            "18/18 [==============================] - 0s 5ms/step - loss: 0.3306 - accuracy: 0.6893 - val_loss: 0.2735 - val_accuracy: 0.7375\n",
            "Epoch 4/50\n",
            "18/18 [==============================] - 0s 6ms/step - loss: 0.3203 - accuracy: 0.6893 - val_loss: 0.2688 - val_accuracy: 0.7375\n",
            "Epoch 5/50\n",
            "18/18 [==============================] - 0s 6ms/step - loss: 0.3164 - accuracy: 0.6893 - val_loss: 0.2667 - val_accuracy: 0.7375\n",
            "Epoch 6/50\n",
            "18/18 [==============================] - 0s 6ms/step - loss: 0.3146 - accuracy: 0.6893 - val_loss: 0.2655 - val_accuracy: 0.7375\n",
            "Epoch 7/50\n",
            "18/18 [==============================] - 0s 6ms/step - loss: 0.3135 - accuracy: 0.6893 - val_loss: 0.2648 - val_accuracy: 0.7375\n",
            "Epoch 8/50\n",
            "18/18 [==============================] - 0s 6ms/step - loss: 0.3129 - accuracy: 0.6893 - val_loss: 0.2643 - val_accuracy: 0.7375\n",
            "Epoch 9/50\n",
            "18/18 [==============================] - 0s 6ms/step - loss: 0.3124 - accuracy: 0.6893 - val_loss: 0.2640 - val_accuracy: 0.7375\n",
            "Epoch 10/50\n",
            "18/18 [==============================] - 0s 6ms/step - loss: 0.3121 - accuracy: 0.6893 - val_loss: 0.2637 - val_accuracy: 0.7375\n",
            "Epoch 11/50\n",
            "18/18 [==============================] - 0s 6ms/step - loss: 0.3118 - accuracy: 0.6893 - val_loss: 0.2635 - val_accuracy: 0.7375\n",
            "Epoch 12/50\n",
            "18/18 [==============================] - 0s 6ms/step - loss: 0.3117 - accuracy: 0.6893 - val_loss: 0.2634 - val_accuracy: 0.7375\n",
            "Epoch 13/50\n",
            "18/18 [==============================] - 0s 6ms/step - loss: 0.3115 - accuracy: 0.6893 - val_loss: 0.2633 - val_accuracy: 0.7375\n",
            "Epoch 14/50\n",
            "18/18 [==============================] - 0s 6ms/step - loss: 0.3114 - accuracy: 0.6893 - val_loss: 0.2632 - val_accuracy: 0.7375\n",
            "Epoch 15/50\n",
            "18/18 [==============================] - 0s 6ms/step - loss: 0.3113 - accuracy: 0.6893 - val_loss: 0.2631 - val_accuracy: 0.7375\n",
            "Epoch 16/50\n",
            "18/18 [==============================] - 0s 6ms/step - loss: 0.3113 - accuracy: 0.6893 - val_loss: 0.2631 - val_accuracy: 0.7375\n",
            "Epoch 17/50\n",
            "18/18 [==============================] - 0s 6ms/step - loss: 0.3112 - accuracy: 0.6893 - val_loss: 0.2630 - val_accuracy: 0.7375\n",
            "Epoch 18/50\n",
            "18/18 [==============================] - 0s 6ms/step - loss: 0.3112 - accuracy: 0.6893 - val_loss: 0.2630 - val_accuracy: 0.7375\n",
            "Epoch 19/50\n",
            "18/18 [==============================] - 0s 6ms/step - loss: 0.3111 - accuracy: 0.6893 - val_loss: 0.2629 - val_accuracy: 0.7375\n",
            "Epoch 20/50\n",
            "18/18 [==============================] - 0s 6ms/step - loss: 0.3111 - accuracy: 0.6893 - val_loss: 0.2629 - val_accuracy: 0.7375\n",
            "Epoch 21/50\n",
            "18/18 [==============================] - 0s 6ms/step - loss: 0.3110 - accuracy: 0.6893 - val_loss: 0.2628 - val_accuracy: 0.7375\n",
            "Epoch 22/50\n",
            "18/18 [==============================] - 0s 6ms/step - loss: 0.3110 - accuracy: 0.6893 - val_loss: 0.2628 - val_accuracy: 0.7375\n",
            "Epoch 23/50\n",
            "18/18 [==============================] - 0s 6ms/step - loss: 0.3110 - accuracy: 0.6893 - val_loss: 0.2628 - val_accuracy: 0.7375\n",
            "Epoch 24/50\n",
            "18/18 [==============================] - 0s 6ms/step - loss: 0.3110 - accuracy: 0.6893 - val_loss: 0.2628 - val_accuracy: 0.7375\n",
            "Epoch 25/50\n",
            "18/18 [==============================] - 0s 6ms/step - loss: 0.3109 - accuracy: 0.6893 - val_loss: 0.2628 - val_accuracy: 0.7375\n",
            "Epoch 26/50\n",
            "18/18 [==============================] - 0s 6ms/step - loss: 0.3109 - accuracy: 0.6893 - val_loss: 0.2627 - val_accuracy: 0.7375\n",
            "Epoch 27/50\n",
            "18/18 [==============================] - 0s 6ms/step - loss: 0.3109 - accuracy: 0.6893 - val_loss: 0.2627 - val_accuracy: 0.7375\n",
            "Epoch 28/50\n",
            "18/18 [==============================] - 0s 6ms/step - loss: 0.3109 - accuracy: 0.6893 - val_loss: 0.2627 - val_accuracy: 0.7375\n",
            "Epoch 29/50\n",
            "18/18 [==============================] - 0s 6ms/step - loss: 0.3109 - accuracy: 0.6893 - val_loss: 0.2627 - val_accuracy: 0.7375\n",
            "Epoch 30/50\n",
            "18/18 [==============================] - 0s 5ms/step - loss: 0.3109 - accuracy: 0.6893 - val_loss: 0.2627 - val_accuracy: 0.7375\n",
            "Epoch 31/50\n",
            "18/18 [==============================] - 0s 6ms/step - loss: 0.3109 - accuracy: 0.6893 - val_loss: 0.2627 - val_accuracy: 0.7375\n",
            "Epoch 32/50\n",
            "18/18 [==============================] - 0s 6ms/step - loss: 0.3109 - accuracy: 0.6893 - val_loss: 0.2627 - val_accuracy: 0.7375\n",
            "Epoch 33/50\n",
            "18/18 [==============================] - 0s 6ms/step - loss: 0.3109 - accuracy: 0.6893 - val_loss: 0.2627 - val_accuracy: 0.7375\n",
            "Epoch 34/50\n",
            "18/18 [==============================] - 0s 6ms/step - loss: 0.3108 - accuracy: 0.6893 - val_loss: 0.2627 - val_accuracy: 0.7375\n",
            "Epoch 35/50\n",
            "18/18 [==============================] - 0s 6ms/step - loss: 0.3108 - accuracy: 0.6893 - val_loss: 0.2626 - val_accuracy: 0.7375\n",
            "Epoch 36/50\n",
            "18/18 [==============================] - 0s 9ms/step - loss: 0.3108 - accuracy: 0.6893 - val_loss: 0.2626 - val_accuracy: 0.7375\n",
            "Epoch 37/50\n",
            "18/18 [==============================] - 0s 6ms/step - loss: 0.3108 - accuracy: 0.6893 - val_loss: 0.2626 - val_accuracy: 0.7375\n",
            "Epoch 38/50\n",
            "18/18 [==============================] - 0s 6ms/step - loss: 0.3108 - accuracy: 0.6893 - val_loss: 0.2626 - val_accuracy: 0.7375\n",
            "Epoch 39/50\n",
            "18/18 [==============================] - 0s 6ms/step - loss: 0.3108 - accuracy: 0.6893 - val_loss: 0.2626 - val_accuracy: 0.7375\n",
            "Epoch 40/50\n",
            "18/18 [==============================] - 0s 6ms/step - loss: 0.3108 - accuracy: 0.6893 - val_loss: 0.2626 - val_accuracy: 0.7375\n",
            "Epoch 41/50\n",
            "18/18 [==============================] - 0s 5ms/step - loss: 0.3108 - accuracy: 0.6893 - val_loss: 0.2626 - val_accuracy: 0.7375\n",
            "Epoch 42/50\n",
            "18/18 [==============================] - 0s 5ms/step - loss: 0.3108 - accuracy: 0.6893 - val_loss: 0.2626 - val_accuracy: 0.7375\n",
            "Epoch 43/50\n",
            "18/18 [==============================] - 0s 6ms/step - loss: 0.3108 - accuracy: 0.6893 - val_loss: 0.2626 - val_accuracy: 0.7375\n",
            "Epoch 44/50\n",
            "18/18 [==============================] - 0s 6ms/step - loss: 0.3108 - accuracy: 0.6893 - val_loss: 0.2626 - val_accuracy: 0.7375\n",
            "Epoch 45/50\n",
            "18/18 [==============================] - 0s 6ms/step - loss: 0.3108 - accuracy: 0.6893 - val_loss: 0.2626 - val_accuracy: 0.7375\n",
            "Epoch 46/50\n",
            "18/18 [==============================] - 0s 6ms/step - loss: 0.3108 - accuracy: 0.6893 - val_loss: 0.2626 - val_accuracy: 0.7375\n",
            "Epoch 47/50\n",
            "18/18 [==============================] - 0s 6ms/step - loss: 0.3108 - accuracy: 0.6893 - val_loss: 0.2626 - val_accuracy: 0.7375\n",
            "Epoch 48/50\n",
            "18/18 [==============================] - 0s 6ms/step - loss: 0.3108 - accuracy: 0.6893 - val_loss: 0.2626 - val_accuracy: 0.7375\n",
            "Epoch 49/50\n",
            "18/18 [==============================] - 0s 6ms/step - loss: 0.3108 - accuracy: 0.6893 - val_loss: 0.2626 - val_accuracy: 0.7375\n",
            "Epoch 50/50\n",
            "18/18 [==============================] - 0s 6ms/step - loss: 0.3108 - accuracy: 0.6893 - val_loss: 0.2626 - val_accuracy: 0.7375\n",
            "7/7 [==============================] - 0s 3ms/step - loss: 0.3151 - accuracy: 0.6850\n",
            "Test loss: 0.3150934875011444\n",
            "Test accuracy: 0.6850000023841858\n"
          ]
        }
      ],
      "source": [
        "scaler = StandardScaler()\n",
        "x_train_scaled = scaler.fit_transform(x_train)\n",
        "\n",
        "# We define the network architecture : 3 layers\n",
        "# 64 neurons (first hidden layer), 32 neurons (2nd hidden layer), 1 neuron (output layer)\n",
        "# we use 'sigmoid' activation function in the last layer in order to have a value in [0,1]\n",
        "\n",
        "model = Sequential()\n",
        "model.add(Dense(64, activation='relu', input_dim=x_train_scaled.shape[1])) #input_dim=X_train_scaled.shape[1] to flatten the data in 1D vector\n",
        "model.add(Dense(32, activation='relu'))\n",
        "model.add(Dense(1, activation='sigmoid'))\n",
        "\n",
        "# # Training the model and storing in the variable 'history' for later visualization\n",
        "model.compile(loss='mse', optimizer='adam', metrics=['accuracy'])\n",
        "\n",
        "# Train the model\n",
        "history = model.fit(x_train_scaled, y_train, epochs=50, batch_size=32, validation_split=0.3)\n",
        "\n",
        "# Evaluate the model on the test set\n",
        "x_test_scaled = scaler.transform(x_test)\n",
        "score = model.evaluate(x_test_scaled, y_test, verbose=1)\n",
        "print('Test loss:', score[0])\n",
        "print('Test accuracy:', score[1])"
      ]
    },
    {
      "cell_type": "markdown",
      "source": [
        "##Accuracy and loss visualization"
      ],
      "metadata": {
        "id": "E-n-_0QIZOtN"
      }
    },
    {
      "cell_type": "code",
      "source": [
        " import matplotlib.pyplot as plt\n",
        " #Plot training & validation accuracy values\n",
        "plt.plot(history.history['accuracy'])\n",
        "plt.plot(history.history['val_accuracy'])\n",
        "plt.title('Model accuracy')\n",
        "plt.ylabel('Accuracy')\n",
        "plt.xlabel('Epoch')\n",
        "plt.legend(['Train', 'Validation'], loc='lower right')\n",
        "plt.show()\n",
        "\n",
        "# Plot training & validation loss values\n",
        "plt.plot(history.history['loss'])\n",
        "plt.plot(history.history['val_loss'])\n",
        "plt.title('Model loss')\n",
        "plt.ylabel('Loss')\n",
        "plt.xlabel('Epoch')\n",
        "plt.legend(['Train', 'Validation'], loc='lower right')\n",
        "plt.show()"
      ],
      "metadata": {
        "colab": {
          "base_uri": "https://localhost:8080/",
          "height": 943
        },
        "id": "E059qaqwXNpO",
        "outputId": "62cfa1ee-9bbe-43b8-a130-6257e6bb3207"
      },
      "execution_count": 89,
      "outputs": [
        {
          "output_type": "display_data",
          "data": {
            "text/plain": [
              "<Figure size 640x480 with 1 Axes>"
            ],
            "image/png": "[encoded data removed]"
          },
          "metadata": {}
        },
        {
          "output_type": "display_data",
          "data": {
            "text/plain": [
              "<Figure size 640x480 with 1 Axes>"
            ],
            "image/png": "[encoded data removed]"
          },
          "metadata": {}
        }
      ]
    },
    {
      "cell_type": "markdown",
      "source": [
        "The accuracy and loss graphs are showing that our model is a pretty much nonsense (because the loss is supposed to tend to zero but the graph above shows the opposite)"
      ],
      "metadata": {
        "id": "3XosMtzc_CA1"
      }
    },
    {
      "cell_type": "markdown",
      "source": [
        "##  **Confusion Matrix : Imbalanced Data**"
      ],
      "metadata": {
        "id": "1FDZtQrBtH_l"
      }
    },
    {
      "cell_type": "code",
      "execution_count": 90,
      "metadata": {
        "colab": {
          "base_uri": "https://localhost:8080/"
        },
        "id": "zGo0sQ0em-Bx",
        "outputId": "ae7a522c-be92-4970-bba7-022ce29a7bf6"
      },
      "outputs": [
        {
          "output_type": "stream",
          "name": "stdout",
          "text": [
            "7/7 [==============================] - 0s 3ms/step\n",
            "Precision: 0.685\n",
            "Recall: 1.0\n",
            "[[137   0]\n",
            " [ 63   0]]\n"
          ]
        }
      ],
      "source": [
        "from sklearn.metrics import precision_score, recall_score\n",
        "\n",
        "# Make predictions on the test set\n",
        "y_pred_proba = model.predict(x_test_scaled)\n",
        "y_pred = (y_pred_proba > 0.5).astype(int) # cette inegalité definit le seuil de la probabilité donnée qui permet de determiner la classe correspondante\n",
        "\n",
        "precision = precision_score(y_test, y_pred)\n",
        "recall = recall_score(y_test, y_pred)\n",
        "\n",
        "print('Precision:', precision)\n",
        "print('Recall:', recall)\n",
        "\n",
        "conf_matrix = confusion_matrix(y_test, y_pred)\n",
        "\n",
        "print(conf_matrix)"
      ]
    },
    {
      "cell_type": "markdown",
      "source": [
        "# <center>Going back to our **imbalanced** data"
      ],
      "metadata": {
        "id": "7PxwalpsFU_z"
      }
    },
    {
      "cell_type": "markdown",
      "source": [
        "##  **Diverse UnderSampling Methods**"
      ],
      "metadata": {
        "id": "wh7yLmEgaveh"
      }
    },
    {
      "cell_type": "markdown",
      "metadata": {
        "id": "5PATe6FT5zJc"
      },
      "source": [
        "\n",
        "\n",
        "### ***1.   RandomUnderSampler***"
      ]
    },
    {
      "cell_type": "code",
      "execution_count": 91,
      "metadata": {
        "id": "XeNtssHWaJeL"
      },
      "outputs": [],
      "source": [
        "from imblearn.under_sampling import RandomUnderSampler\n",
        "undersample = RandomUnderSampler(sampling_strategy='majority')\n",
        "X_under_ru, y_under_ru = undersample.fit_resample(x_raw_scaled, y)"
      ]
    },
    {
      "cell_type": "markdown",
      "metadata": {
        "id": "rDu5VZ8i7vkd"
      },
      "source": [
        "\n",
        "\n",
        "### ***2.    NearMiss***\n",
        "\n"
      ]
    },
    {
      "cell_type": "code",
      "execution_count": 92,
      "metadata": {
        "id": "iJV9uMfmgJmT"
      },
      "outputs": [],
      "source": [
        "from imblearn.under_sampling import NearMiss\n",
        "undersample = NearMiss(version = 2, n_neighbors=3)\n",
        "X_under_nm, y_under_nm = undersample.fit_resample(x_raw_scaled, y)"
      ]
    },
    {
      "cell_type": "markdown",
      "source": [
        "### **3. Cluster Centroids**"
      ],
      "metadata": {
        "id": "5Lnzw896euma"
      }
    },
    {
      "cell_type": "code",
      "execution_count": 93,
      "metadata": {
        "colab": {
          "base_uri": "https://localhost:8080/"
        },
        "id": "lBgyocDcgi0m",
        "outputId": "30f102cb-4318-4519-bf14-0ad66d8ce176"
      },
      "outputs": [
        {
          "output_type": "stream",
          "name": "stderr",
          "text": [
            "/usr/local/lib/python3.10/dist-packages/sklearn/cluster/_kmeans.py:870: FutureWarning: The default value of `n_init` will change from 10 to 'auto' in 1.4. Set the value of `n_init` explicitly to suppress the warning\n",
            "  warnings.warn(\n"
          ]
        }
      ],
      "source": [
        "from imblearn.under_sampling import ClusterCentroids\n",
        "undersample = ClusterCentroids(sampling_strategy='auto')\n",
        "X_under_cc, y_under_cc = undersample.fit_resample(x_raw_scaled, y)"
      ]
    },
    {
      "cell_type": "markdown",
      "source": [
        "##<center> **Data visualization : Balanced Data**"
      ],
      "metadata": {
        "id": "GIPzzZsM44kt"
      }
    },
    {
      "cell_type": "code",
      "source": [
        "# Create a list of class labels\n",
        "labels = ['1', '2']\n",
        "\n",
        "# Combine the features and target into a single DataFrame\n",
        "df = pd.DataFrame({'feature1': X_under_nm[:, 0], 'feature2': X_under_nm[:, 1], 'label': y_under_nm})\n",
        "\n",
        "# Create a countplot using seaborn\n",
        "sns.countplot(x='label', data=df)\n",
        "\n",
        "# Set the labels and title of the plot\n",
        "plt.xlabel('labels')\n",
        "plt.ylabel('count')\n",
        "plt.xticks([0, 1], labels)\n",
        "plt.title('Dataset after Undersampling')\n",
        "plt.show()"
      ],
      "metadata": {
        "id": "vt2KEBvw4xF1",
        "colab": {
          "base_uri": "https://localhost:8080/",
          "height": 480
        },
        "outputId": "e27d1622-50d4-4e5e-f220-502081d415c6"
      },
      "execution_count": 94,
      "outputs": [
        {
          "output_type": "display_data",
          "data": {
            "text/plain": [
              "<Figure size 640x480 with 1 Axes>"
            ],
            "image/png": "[encoded data removed]"
          },
          "metadata": {}
        }
      ]
    },
    {
      "cell_type": "markdown",
      "source": [
        "# <center> **Machine learning models : Balanced Data**  \n",
        "\n"
      ],
      "metadata": {
        "id": "o5z8J0IA9syT"
      }
    },
    {
      "cell_type": "markdown",
      "source": [
        "# Training & Evaluation"
      ],
      "metadata": {
        "id": "NWSzdk4VZCxL"
      }
    },
    {
      "cell_type": "code",
      "source": [
        "# Nearmiss is reliable as far as the preservation of information is concerned\n",
        "#therefore, from now on, we will be using Nearmiss undersampling method\n",
        "\n",
        "print('Three_Models_I')\n",
        "print(' ')\n",
        "train_and_evaluate(Three_Models_I,X_under_nm, y_under_nm)\n",
        "\n",
        "print('=' * 30)\n",
        "print(' ' )\n",
        "print(' ' )\n",
        "\n",
        "print('Three_Models_II')\n",
        "print(' ' )\n",
        "train_and_evaluate(Three_Models_II ,X_under_nm, y_under_nm)\n",
        "print('=' * 30)\n",
        "print(' ')\n",
        "print(' ' )\n",
        "\n",
        "# From the output below, we can see that SVC in Three_Models_II (i.e. SVC with kernel = 'poly') is much better than SVC in Three_Models_I (i.e. SVC with kernel = 'rbf')"
      ],
      "metadata": {
        "colab": {
          "base_uri": "https://localhost:8080/"
        },
        "id": "uVWvavld8Jpf",
        "outputId": "e2775f8b-8dc8-45a6-8906-c515b2b81d57"
      },
      "execution_count": 95,
      "outputs": [
        {
          "output_type": "stream",
          "name": "stdout",
          "text": [
            "Three_Models_I\n",
            " \n",
            "LogisticRegression :\n",
            "precision :  0.746677630116894\n",
            "recall :  0.7466666666666666\n",
            "accuracy :  0.7466666666666667\n",
            "------------------------------\n",
            "GaussianNBS :\n",
            "precision :  0.707641196013289\n",
            "recall :  0.6\n",
            "accuracy :  0.6\n",
            "------------------------------\n",
            "SVC :\n",
            "precision :  0.8300146673185476\n",
            "recall :  0.8300000000000001\n",
            "accuracy :  0.83\n",
            "------------------------------\n",
            "==============================\n",
            " \n",
            " \n",
            "Three_Models_II\n",
            " \n",
            "LogisticRegression :\n",
            "precision :  0.746677630116894\n",
            "recall :  0.7466666666666666\n",
            "accuracy :  0.7466666666666667\n",
            "------------------------------\n",
            "GaussianNBS :\n",
            "precision :  0.707641196013289\n",
            "recall :  0.6\n",
            "accuracy :  0.6\n",
            "------------------------------\n",
            "SVC :\n",
            "precision :  0.8554779203150903\n",
            "recall :  0.855\n",
            "accuracy :  0.855\n",
            "------------------------------\n",
            "==============================\n",
            " \n",
            " \n"
          ]
        }
      ]
    },
    {
      "cell_type": "markdown",
      "source": [
        "\n",
        "# <center> **Artificial neural network (ANN) : Balanced Data**"
      ],
      "metadata": {
        "id": "h0jV_UhLAiZI"
      }
    },
    {
      "cell_type": "code",
      "source": [
        "# We split our new undersampled dataset into train and test\n",
        "\n",
        "x_train_undersampled, x_test_undersampled, y_train_undersampled, y_test_undersampled = train_test_split(X_under_nm, y_under_nm, train_size = 0.8, random_state = 50)\n",
        "scaler = StandardScaler()\n",
        "x_train_scaled = scaler.fit_transform(x_train_undersampled)\n",
        "\n",
        "# We define the network architecture : 3 layers\n",
        "# 64 neurons (first hidden layer), 32 neurons (2nd hidden layer), 1 neuron (output layer)\n",
        "# we use 'sigmoid' activation function in the last layer in order to have a value in [0,1]\n",
        "\n",
        "model = Sequential()\n",
        "model.add(Dense(32, activation='relu', input_dim=x_train_scaled.shape[1])) #input_dim=X_train_scaled.shape[1] to flatten the data in 1D vector\n",
        "model.add(Dense(16, activation='relu'))\n",
        "model.add(Dense(1, activation='sigmoid'))\n",
        "\n",
        "#Compiling the model\n",
        "model.compile(loss='binary_crossentropy', optimizer='adam', metrics=['accuracy'])\n",
        "\n",
        "# Training the model and storing in the variable 'history' for later visualization\n",
        "history = model.fit(x_train_scaled, y_under_nm, epochs=50, batch_size=32, validation_split=0.3)\n",
        "\n",
        "# Evaluating the model on the test set\n",
        "x_test_scaled = scaler.transform(x_test_undersampled)\n",
        "score = model.evaluate(x_test_scaled,y_test_undersampled, verbose=0)\n",
        "print('Test loss:', score[0])\n",
        "print('Test accuracy:', score[1])\n"
      ],
      "metadata": {
        "colab": {
          "base_uri": "https://localhost:8080/"
        },
        "id": "JD-bGIZx_K4x",
        "outputId": "dd6a47a1-b1f3-4183-f16c-b7fc5aa1dc0a"
      },
      "execution_count": 96,
      "outputs": [
        {
          "output_type": "stream",
          "name": "stdout",
          "text": [
            "Epoch 1/50\n",
            "11/11 [==============================] - 2s 21ms/step - loss: 0.6709 - accuracy: 0.5149 - val_loss: 0.1813 - val_accuracy: 0.0000e+00\n",
            "Epoch 2/50\n",
            "11/11 [==============================] - 0s 8ms/step - loss: 0.4152 - accuracy: 0.7143 - val_loss: -0.4922 - val_accuracy: 0.0000e+00\n",
            "Epoch 3/50\n",
            "11/11 [==============================] - 0s 7ms/step - loss: 0.2324 - accuracy: 0.8542 - val_loss: -1.0682 - val_accuracy: 0.0000e+00\n",
            "Epoch 4/50\n",
            "11/11 [==============================] - 0s 7ms/step - loss: 0.0935 - accuracy: 0.8780 - val_loss: -1.5800 - val_accuracy: 0.0000e+00\n",
            "Epoch 5/50\n",
            "11/11 [==============================] - 0s 8ms/step - loss: -0.0207 - accuracy: 0.8839 - val_loss: -2.0531 - val_accuracy: 0.0000e+00\n",
            "Epoch 6/50\n",
            "11/11 [==============================] - 0s 8ms/step - loss: -0.1154 - accuracy: 0.8929 - val_loss: -2.5144 - val_accuracy: 0.0000e+00\n",
            "Epoch 7/50\n",
            "11/11 [==============================] - 0s 6ms/step - loss: -0.1971 - accuracy: 0.8929 - val_loss: -2.9826 - val_accuracy: 0.0000e+00\n",
            "Epoch 8/50\n",
            "11/11 [==============================] - 0s 7ms/step - loss: -0.2752 - accuracy: 0.8929 - val_loss: -3.4516 - val_accuracy: 0.0000e+00\n",
            "Epoch 9/50\n",
            "11/11 [==============================] - 0s 7ms/step - loss: -0.3450 - accuracy: 0.8929 - val_loss: -3.9693 - val_accuracy: 0.0000e+00\n",
            "Epoch 10/50\n",
            "11/11 [==============================] - 0s 6ms/step - loss: -0.4264 - accuracy: 0.8929 - val_loss: -4.4635 - val_accuracy: 0.0000e+00\n",
            "Epoch 11/50\n",
            "11/11 [==============================] - 0s 7ms/step - loss: -0.4931 - accuracy: 0.8929 - val_loss: -5.0644 - val_accuracy: 0.0000e+00\n",
            "Epoch 12/50\n",
            "11/11 [==============================] - 0s 7ms/step - loss: -0.5763 - accuracy: 0.8929 - val_loss: -5.6722 - val_accuracy: 0.0000e+00\n",
            "Epoch 13/50\n",
            "11/11 [==============================] - 0s 7ms/step - loss: -0.6550 - accuracy: 0.8929 - val_loss: -6.3626 - val_accuracy: 0.0000e+00\n",
            "Epoch 14/50\n",
            "11/11 [==============================] - 0s 6ms/step - loss: -0.7529 - accuracy: 0.8929 - val_loss: -7.0623 - val_accuracy: 0.0000e+00\n",
            "Epoch 15/50\n",
            "11/11 [==============================] - 0s 7ms/step - loss: -0.8464 - accuracy: 0.8929 - val_loss: -7.8795 - val_accuracy: 0.0000e+00\n",
            "Epoch 16/50\n",
            "11/11 [==============================] - 0s 8ms/step - loss: -0.9651 - accuracy: 0.8929 - val_loss: -8.6945 - val_accuracy: 0.0000e+00\n",
            "Epoch 17/50\n",
            "11/11 [==============================] - 0s 7ms/step - loss: -1.0774 - accuracy: 0.8929 - val_loss: -9.7119 - val_accuracy: 0.0000e+00\n",
            "Epoch 18/50\n",
            "11/11 [==============================] - 0s 6ms/step - loss: -1.2169 - accuracy: 0.8929 - val_loss: -10.8213 - val_accuracy: 0.0000e+00\n",
            "Epoch 19/50\n",
            "11/11 [==============================] - 0s 8ms/step - loss: -1.3711 - accuracy: 0.8929 - val_loss: -12.0424 - val_accuracy: 0.0000e+00\n",
            "Epoch 20/50\n",
            "11/11 [==============================] - 0s 7ms/step - loss: -1.5494 - accuracy: 0.8929 - val_loss: -13.3546 - val_accuracy: 0.0000e+00\n",
            "Epoch 21/50\n",
            "11/11 [==============================] - 0s 8ms/step - loss: -1.7302 - accuracy: 0.8929 - val_loss: -14.7906 - val_accuracy: 0.0000e+00\n",
            "Epoch 22/50\n",
            "11/11 [==============================] - 0s 8ms/step - loss: -1.9348 - accuracy: 0.8929 - val_loss: -16.3733 - val_accuracy: 0.0000e+00\n",
            "Epoch 23/50\n",
            "11/11 [==============================] - 0s 7ms/step - loss: -2.1633 - accuracy: 0.8929 - val_loss: -18.2277 - val_accuracy: 0.0000e+00\n",
            "Epoch 24/50\n",
            "11/11 [==============================] - 0s 7ms/step - loss: -2.4332 - accuracy: 0.8929 - val_loss: -20.1538 - val_accuracy: 0.0000e+00\n",
            "Epoch 25/50\n",
            "11/11 [==============================] - 0s 7ms/step - loss: -2.7135 - accuracy: 0.8929 - val_loss: -22.2582 - val_accuracy: 0.0000e+00\n",
            "Epoch 26/50\n",
            "11/11 [==============================] - 0s 7ms/step - loss: -3.0454 - accuracy: 0.8929 - val_loss: -24.4335 - val_accuracy: 0.0000e+00\n",
            "Epoch 27/50\n",
            "11/11 [==============================] - 0s 8ms/step - loss: -3.3675 - accuracy: 0.8929 - val_loss: -27.0711 - val_accuracy: 0.0000e+00\n",
            "Epoch 28/50\n",
            "11/11 [==============================] - 0s 7ms/step - loss: -3.7395 - accuracy: 0.8929 - val_loss: -29.8583 - val_accuracy: 0.0000e+00\n",
            "Epoch 29/50\n",
            "11/11 [==============================] - 0s 7ms/step - loss: -4.1651 - accuracy: 0.8929 - val_loss: -32.6754 - val_accuracy: 0.0000e+00\n",
            "Epoch 30/50\n",
            "11/11 [==============================] - 0s 7ms/step - loss: -4.6144 - accuracy: 0.8929 - val_loss: -35.8771 - val_accuracy: 0.0000e+00\n",
            "Epoch 31/50\n",
            "11/11 [==============================] - 0s 7ms/step - loss: -5.1026 - accuracy: 0.8929 - val_loss: -39.3201 - val_accuracy: 0.0000e+00\n",
            "Epoch 32/50\n",
            "11/11 [==============================] - 0s 7ms/step - loss: -5.6450 - accuracy: 0.8929 - val_loss: -42.8702 - val_accuracy: 0.0000e+00\n",
            "Epoch 33/50\n",
            "11/11 [==============================] - 0s 7ms/step - loss: -6.2061 - accuracy: 0.8929 - val_loss: -46.9846 - val_accuracy: 0.0000e+00\n",
            "Epoch 34/50\n",
            "11/11 [==============================] - 0s 8ms/step - loss: -6.8314 - accuracy: 0.8929 - val_loss: -51.5920 - val_accuracy: 0.0000e+00\n",
            "Epoch 35/50\n",
            "11/11 [==============================] - 0s 7ms/step - loss: -7.5822 - accuracy: 0.8929 - val_loss: -56.2123 - val_accuracy: 0.0000e+00\n",
            "Epoch 36/50\n",
            "11/11 [==============================] - 0s 8ms/step - loss: -8.2561 - accuracy: 0.8929 - val_loss: -61.5611 - val_accuracy: 0.0000e+00\n",
            "Epoch 37/50\n",
            "11/11 [==============================] - 0s 8ms/step - loss: -9.1169 - accuracy: 0.8929 - val_loss: -66.7248 - val_accuracy: 0.0000e+00\n",
            "Epoch 38/50\n",
            "11/11 [==============================] - 0s 8ms/step - loss: -9.9243 - accuracy: 0.8929 - val_loss: -72.6710 - val_accuracy: 0.0000e+00\n",
            "Epoch 39/50\n",
            "11/11 [==============================] - 0s 8ms/step - loss: -10.9013 - accuracy: 0.8929 - val_loss: -78.6705 - val_accuracy: 0.0000e+00\n",
            "Epoch 40/50\n",
            "11/11 [==============================] - 0s 6ms/step - loss: -11.8008 - accuracy: 0.8929 - val_loss: -85.5136 - val_accuracy: 0.0000e+00\n",
            "Epoch 41/50\n",
            "11/11 [==============================] - 0s 7ms/step - loss: -12.9572 - accuracy: 0.8929 - val_loss: -91.9687 - val_accuracy: 0.0000e+00\n",
            "Epoch 42/50\n",
            "11/11 [==============================] - 0s 8ms/step - loss: -13.9877 - accuracy: 0.8929 - val_loss: -99.5819 - val_accuracy: 0.0000e+00\n",
            "Epoch 43/50\n",
            "11/11 [==============================] - 0s 7ms/step - loss: -15.2441 - accuracy: 0.8929 - val_loss: -107.0204 - val_accuracy: 0.0000e+00\n",
            "Epoch 44/50\n",
            "11/11 [==============================] - 0s 8ms/step - loss: -16.4210 - accuracy: 0.8929 - val_loss: -115.2821 - val_accuracy: 0.0000e+00\n",
            "Epoch 45/50\n",
            "11/11 [==============================] - 0s 7ms/step - loss: -17.8213 - accuracy: 0.8929 - val_loss: -123.4690 - val_accuracy: 0.0000e+00\n",
            "Epoch 46/50\n",
            "11/11 [==============================] - 0s 7ms/step - loss: -19.2003 - accuracy: 0.8929 - val_loss: -132.7706 - val_accuracy: 0.0000e+00\n",
            "Epoch 47/50\n",
            "11/11 [==============================] - 0s 7ms/step - loss: -20.5778 - accuracy: 0.8929 - val_loss: -143.1194 - val_accuracy: 0.0000e+00\n",
            "Epoch 48/50\n",
            "11/11 [==============================] - 0s 8ms/step - loss: -22.4540 - accuracy: 0.8929 - val_loss: -152.5799 - val_accuracy: 0.0000e+00\n",
            "Epoch 49/50\n",
            "11/11 [==============================] - 0s 9ms/step - loss: -23.9353 - accuracy: 0.8929 - val_loss: -164.2053 - val_accuracy: 0.0000e+00\n",
            "Epoch 50/50\n",
            "11/11 [==============================] - 0s 8ms/step - loss: -25.8106 - accuracy: 0.8929 - val_loss: -174.9068 - val_accuracy: 0.0000e+00\n",
            "Test loss: -97.23191833496094\n",
            "Test accuracy: 0.46666666865348816\n"
          ]
        }
      ]
    },
    {
      "cell_type": "markdown",
      "source": [
        "\n",
        "\n",
        "P.S : Notice that the test accuracy to 46% when the training accuracy is approximately 77,6%, it is probably due to the fact that Neural Networks values a large dataset (even if it's imbalanced) more than a small dataset (even if it was balanced) . That lead to a phenomenon called overfitting.\n"
      ],
      "metadata": {
        "id": "ibJuAoF0cb6e"
      }
    },
    {
      "cell_type": "markdown",
      "source": [
        "##Accuracy and loss visualization"
      ],
      "metadata": {
        "id": "XwJt4QoHYvA6"
      }
    },
    {
      "cell_type": "code",
      "source": [
        "# Plot training & validation accuracy values\n",
        "plt.plot(history.history['accuracy'])\n",
        "plt.plot(history.history['val_accuracy'])\n",
        "plt.title('Model accuracy')\n",
        "plt.ylabel('Accuracy')\n",
        "plt.xlabel('Epoch')\n",
        "plt.legend(['Train', 'Validation'], loc='lower right')\n",
        "plt.show()\n",
        "\n",
        "# Plot training & validation loss values\n",
        "plt.plot(history.history['loss'])\n",
        "plt.plot(history.history['val_loss'])\n",
        "plt.title('Model loss')\n",
        "plt.ylabel('Loss')\n",
        "plt.xlabel('Epoch')\n",
        "plt.legend(['Train', 'Validation'], loc='lower right')\n",
        "plt.show()"
      ],
      "metadata": {
        "colab": {
          "base_uri": "https://localhost:8080/",
          "height": 943
        },
        "id": "ndH4gEKhSnpy",
        "outputId": "2c16b3f0-5248-4f5b-af55-3911deb9fb03"
      },
      "execution_count": 97,
      "outputs": [
        {
          "output_type": "display_data",
          "data": {
            "text/plain": [
              "<Figure size 640x480 with 1 Axes>"
            ],
            "image/png": "[encoded data removed]"
          },
          "metadata": {}
        },
        {
          "output_type": "display_data",
          "data": {
            "text/plain": [
              "<Figure size 640x480 with 1 Axes>"
            ],
            "image/png": "[encoded data removed]"
          },
          "metadata": {}
        }
      ]
    },
    {
      "cell_type": "markdown",
      "source": [
        "the accuracy and loss graphs are showing that our model is far from being good !! (even after undersampling)"
      ],
      "metadata": {
        "id": "83RaT9kj-cy7"
      }
    },
    {
      "cell_type": "markdown",
      "source": [
        "##Confusion matrix : Balanced Data"
      ],
      "metadata": {
        "id": "zn34_3GFY4Ew"
      }
    },
    {
      "cell_type": "code",
      "source": [
        "from sklearn.metrics import precision_score, recall_score\n",
        "\n",
        "# Make predictions on the test set\n",
        "y_pred_proba = model.predict(x_test_scaled)\n",
        "y_pred = (y_pred_proba > 0.5).astype(int) # this inequality defines the threshold of the given probability to determine the corresponding class\n",
        "precision = precision_score(y_test_undersampled, y_pred)\n",
        "recall = recall_score(y_test_undersampled, y_pred)\n",
        "\n",
        "print('Precision:', precision)\n",
        "print('Recall:', recall)\n",
        "\n",
        "conf_matrix = confusion_matrix(y_test_undersampled, y_pred)\n",
        "\n",
        "print(conf_matrix)"
      ],
      "metadata": {
        "colab": {
          "base_uri": "https://localhost:8080/"
        },
        "id": "kNZwkD2UIUCN",
        "outputId": "3ecfc31b-c1fa-4ae1-ce92-c0e48e9227e9"
      },
      "execution_count": 98,
      "outputs": [
        {
          "output_type": "stream",
          "name": "stdout",
          "text": [
            "4/4 [==============================] - 0s 3ms/step\n",
            "Precision: 0.4666666666666667\n",
            "Recall: 1.0\n",
            "[[56  0]\n",
            " [64  0]]\n"
          ]
        }
      ]
    },
    {
      "cell_type": "markdown",
      "source": [
        "## Saving the most performant model (SVC)\n"
      ],
      "metadata": {
        "id": "OW1t_HTW4gb5"
      }
    },
    {
      "cell_type": "code",
      "source": [
        "import joblib\n",
        "joblib.dump(Three_Models_II[\"SVC\"], \"loan_SVC.joblib\")"
      ],
      "metadata": {
        "id": "M3yTw51K2e43",
        "colab": {
          "base_uri": "https://localhost:8080/"
        },
        "outputId": "feead4ba-d50b-4e0d-d343-20a544af280d"
      },
      "execution_count": 99,
      "outputs": [
        {
          "output_type": "execute_result",
          "data": {
            "text/plain": [
              "['loan_SVC.joblib']"
            ]
          },
          "metadata": {},
          "execution_count": 99
        }
      ]
    },
    {
      "cell_type": "markdown",
      "source": [
        "## PS : Il est à noter qu'on a entrainé les modèles en éliminant quelques features, mais on n'a pas abouti à des résultats satisfaisants"
      ],
      "metadata": {
        "id": "Xc-NMaIO5Tik"
      }
    },
    {
      "cell_type": "code",
      "source": [],
      "metadata": {
        "id": "UaC3v2545nhD"
      },
      "execution_count": null,
      "outputs": []
    }
  ],
  "metadata": {
    "colab": {
      "provenance": [],
      "collapsed_sections": [
        "ZAAK-boROHcR"
      ],
      "gpuType": "T4"
    },
    "kernelspec": {
      "display_name": "Python 3",
      "name": "python3"
    },
    "language_info": {
      "name": "python"
    },
    "accelerator": "GPU"
  },
  "nbformat": 4,
  "nbformat_minor": 0
}